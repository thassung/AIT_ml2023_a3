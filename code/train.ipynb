{
 "cells": [
  {
   "attachments": {},
   "cell_type": "markdown",
   "metadata": {},
   "source": [
    "# Car Selling Price Prediction"
   ]
  },
  {
   "attachments": {},
   "cell_type": "markdown",
   "metadata": {},
   "source": [
    "\n",
    "The dataset contains various attributes of cars, which will be used to predict their prices. There are total of 13 given columns as follows:\n",
    "\n",
    "        1. name             : name of the car model\n",
    "        2. year             : built year\n",
    "        3. selling_price    : current selling price of the car\n",
    "        4. km_driven        : total distance driven (in km)\n",
    "        5. fuel             : fuel type used\n",
    "        6. seller_type      : type of seller\n",
    "        7. transmission     : transmission type (manual or automatic)\n",
    "        8. owner            : the ownerership order (ith-hand)\n",
    "        9. mileage          : the distance it can travel using a unit of fuel\n",
    "        10. engine          : the size of engine\n",
    "        11. max_power       : car's maximum power (rate of completing work in a timeframe)\n",
    "        12. torque          : car's torque (capacity to do work)\n",
    "        13. seats           : the number of seats avaialable\n",
    "\n",
    "In this notebook, a selling_price prediction model will be created using other atrributes as features."
   ]
  },
  {
   "attachments": {},
   "cell_type": "markdown",
   "metadata": {},
   "source": [
    "\n",
    "### Importing Libraries"
   ]
  },
  {
   "cell_type": "code",
   "execution_count": 1,
   "metadata": {},
   "outputs": [],
   "source": [
    "import pandas as pd\n",
    "import numpy as np\n",
    "import seaborn as sns\n",
    "import matplotlib.pyplot as plt\n",
    "import warnings\n",
    "import time\n",
    "warnings.filterwarnings('ignore')\n",
    "\n",
    "from sklearn.preprocessing import StandardScaler\n",
    "import mlflow\n",
    "import pickle"
   ]
  },
  {
   "attachments": {},
   "cell_type": "markdown",
   "metadata": {},
   "source": [
    "## Importing Data"
   ]
  },
  {
   "cell_type": "code",
   "execution_count": 2,
   "metadata": {},
   "outputs": [],
   "source": [
    "df = pd.read_csv('./data/Cars - Cars.csv')"
   ]
  },
  {
   "cell_type": "code",
   "execution_count": 3,
   "metadata": {},
   "outputs": [
    {
     "data": {
      "text/html": [
       "<div>\n",
       "<style scoped>\n",
       "    .dataframe tbody tr th:only-of-type {\n",
       "        vertical-align: middle;\n",
       "    }\n",
       "\n",
       "    .dataframe tbody tr th {\n",
       "        vertical-align: top;\n",
       "    }\n",
       "\n",
       "    .dataframe thead th {\n",
       "        text-align: right;\n",
       "    }\n",
       "</style>\n",
       "<table border=\"1\" class=\"dataframe\">\n",
       "  <thead>\n",
       "    <tr style=\"text-align: right;\">\n",
       "      <th></th>\n",
       "      <th>name</th>\n",
       "      <th>year</th>\n",
       "      <th>selling_price</th>\n",
       "      <th>km_driven</th>\n",
       "      <th>fuel</th>\n",
       "      <th>seller_type</th>\n",
       "      <th>transmission</th>\n",
       "      <th>owner</th>\n",
       "      <th>mileage</th>\n",
       "      <th>engine</th>\n",
       "      <th>max_power</th>\n",
       "      <th>torque</th>\n",
       "      <th>seats</th>\n",
       "    </tr>\n",
       "  </thead>\n",
       "  <tbody>\n",
       "    <tr>\n",
       "      <th>0</th>\n",
       "      <td>Maruti Swift Dzire VDI</td>\n",
       "      <td>2014</td>\n",
       "      <td>450000</td>\n",
       "      <td>145500</td>\n",
       "      <td>Diesel</td>\n",
       "      <td>Individual</td>\n",
       "      <td>Manual</td>\n",
       "      <td>First Owner</td>\n",
       "      <td>23.4 kmpl</td>\n",
       "      <td>1248 CC</td>\n",
       "      <td>74 bhp</td>\n",
       "      <td>190Nm@ 2000rpm</td>\n",
       "      <td>5.0</td>\n",
       "    </tr>\n",
       "    <tr>\n",
       "      <th>1</th>\n",
       "      <td>Skoda Rapid 1.5 TDI Ambition</td>\n",
       "      <td>2014</td>\n",
       "      <td>370000</td>\n",
       "      <td>120000</td>\n",
       "      <td>Diesel</td>\n",
       "      <td>Individual</td>\n",
       "      <td>Manual</td>\n",
       "      <td>Second Owner</td>\n",
       "      <td>21.14 kmpl</td>\n",
       "      <td>1498 CC</td>\n",
       "      <td>103.52 bhp</td>\n",
       "      <td>250Nm@ 1500-2500rpm</td>\n",
       "      <td>5.0</td>\n",
       "    </tr>\n",
       "    <tr>\n",
       "      <th>2</th>\n",
       "      <td>Honda City 2017-2020 EXi</td>\n",
       "      <td>2006</td>\n",
       "      <td>158000</td>\n",
       "      <td>140000</td>\n",
       "      <td>Petrol</td>\n",
       "      <td>Individual</td>\n",
       "      <td>Manual</td>\n",
       "      <td>Third Owner</td>\n",
       "      <td>17.7 kmpl</td>\n",
       "      <td>1497 CC</td>\n",
       "      <td>78 bhp</td>\n",
       "      <td>12.7@ 2,700(kgm@ rpm)</td>\n",
       "      <td>5.0</td>\n",
       "    </tr>\n",
       "    <tr>\n",
       "      <th>3</th>\n",
       "      <td>Hyundai i20 Sportz Diesel</td>\n",
       "      <td>2010</td>\n",
       "      <td>225000</td>\n",
       "      <td>127000</td>\n",
       "      <td>Diesel</td>\n",
       "      <td>Individual</td>\n",
       "      <td>Manual</td>\n",
       "      <td>First Owner</td>\n",
       "      <td>23.0 kmpl</td>\n",
       "      <td>1396 CC</td>\n",
       "      <td>90 bhp</td>\n",
       "      <td>22.4 kgm at 1750-2750rpm</td>\n",
       "      <td>5.0</td>\n",
       "    </tr>\n",
       "    <tr>\n",
       "      <th>4</th>\n",
       "      <td>Maruti Swift VXI BSIII</td>\n",
       "      <td>2007</td>\n",
       "      <td>130000</td>\n",
       "      <td>120000</td>\n",
       "      <td>Petrol</td>\n",
       "      <td>Individual</td>\n",
       "      <td>Manual</td>\n",
       "      <td>First Owner</td>\n",
       "      <td>16.1 kmpl</td>\n",
       "      <td>1298 CC</td>\n",
       "      <td>88.2 bhp</td>\n",
       "      <td>11.5@ 4,500(kgm@ rpm)</td>\n",
       "      <td>5.0</td>\n",
       "    </tr>\n",
       "    <tr>\n",
       "      <th>...</th>\n",
       "      <td>...</td>\n",
       "      <td>...</td>\n",
       "      <td>...</td>\n",
       "      <td>...</td>\n",
       "      <td>...</td>\n",
       "      <td>...</td>\n",
       "      <td>...</td>\n",
       "      <td>...</td>\n",
       "      <td>...</td>\n",
       "      <td>...</td>\n",
       "      <td>...</td>\n",
       "      <td>...</td>\n",
       "      <td>...</td>\n",
       "    </tr>\n",
       "    <tr>\n",
       "      <th>8123</th>\n",
       "      <td>Hyundai i20 Magna</td>\n",
       "      <td>2013</td>\n",
       "      <td>320000</td>\n",
       "      <td>110000</td>\n",
       "      <td>Petrol</td>\n",
       "      <td>Individual</td>\n",
       "      <td>Manual</td>\n",
       "      <td>First Owner</td>\n",
       "      <td>18.5 kmpl</td>\n",
       "      <td>1197 CC</td>\n",
       "      <td>82.85 bhp</td>\n",
       "      <td>113.7Nm@ 4000rpm</td>\n",
       "      <td>5.0</td>\n",
       "    </tr>\n",
       "    <tr>\n",
       "      <th>8124</th>\n",
       "      <td>Hyundai Verna CRDi SX</td>\n",
       "      <td>2007</td>\n",
       "      <td>135000</td>\n",
       "      <td>119000</td>\n",
       "      <td>Diesel</td>\n",
       "      <td>Individual</td>\n",
       "      <td>Manual</td>\n",
       "      <td>Fourth &amp; Above Owner</td>\n",
       "      <td>16.8 kmpl</td>\n",
       "      <td>1493 CC</td>\n",
       "      <td>110 bhp</td>\n",
       "      <td>24@ 1,900-2,750(kgm@ rpm)</td>\n",
       "      <td>5.0</td>\n",
       "    </tr>\n",
       "    <tr>\n",
       "      <th>8125</th>\n",
       "      <td>Maruti Swift Dzire ZDi</td>\n",
       "      <td>2009</td>\n",
       "      <td>382000</td>\n",
       "      <td>120000</td>\n",
       "      <td>Diesel</td>\n",
       "      <td>Individual</td>\n",
       "      <td>Manual</td>\n",
       "      <td>First Owner</td>\n",
       "      <td>19.3 kmpl</td>\n",
       "      <td>1248 CC</td>\n",
       "      <td>73.9 bhp</td>\n",
       "      <td>190Nm@ 2000rpm</td>\n",
       "      <td>5.0</td>\n",
       "    </tr>\n",
       "    <tr>\n",
       "      <th>8126</th>\n",
       "      <td>Tata Indigo CR4</td>\n",
       "      <td>2013</td>\n",
       "      <td>290000</td>\n",
       "      <td>25000</td>\n",
       "      <td>Diesel</td>\n",
       "      <td>Individual</td>\n",
       "      <td>Manual</td>\n",
       "      <td>First Owner</td>\n",
       "      <td>23.57 kmpl</td>\n",
       "      <td>1396 CC</td>\n",
       "      <td>70 bhp</td>\n",
       "      <td>140Nm@ 1800-3000rpm</td>\n",
       "      <td>5.0</td>\n",
       "    </tr>\n",
       "    <tr>\n",
       "      <th>8127</th>\n",
       "      <td>Tata Indigo CR4</td>\n",
       "      <td>2013</td>\n",
       "      <td>290000</td>\n",
       "      <td>25000</td>\n",
       "      <td>Diesel</td>\n",
       "      <td>Individual</td>\n",
       "      <td>Manual</td>\n",
       "      <td>First Owner</td>\n",
       "      <td>23.57 kmpl</td>\n",
       "      <td>1396 CC</td>\n",
       "      <td>70 bhp</td>\n",
       "      <td>140Nm@ 1800-3000rpm</td>\n",
       "      <td>5.0</td>\n",
       "    </tr>\n",
       "  </tbody>\n",
       "</table>\n",
       "<p>8128 rows × 13 columns</p>\n",
       "</div>"
      ],
      "text/plain": [
       "                              name  year  selling_price  km_driven    fuel  \\\n",
       "0           Maruti Swift Dzire VDI  2014         450000     145500  Diesel   \n",
       "1     Skoda Rapid 1.5 TDI Ambition  2014         370000     120000  Diesel   \n",
       "2         Honda City 2017-2020 EXi  2006         158000     140000  Petrol   \n",
       "3        Hyundai i20 Sportz Diesel  2010         225000     127000  Diesel   \n",
       "4           Maruti Swift VXI BSIII  2007         130000     120000  Petrol   \n",
       "...                            ...   ...            ...        ...     ...   \n",
       "8123             Hyundai i20 Magna  2013         320000     110000  Petrol   \n",
       "8124         Hyundai Verna CRDi SX  2007         135000     119000  Diesel   \n",
       "8125        Maruti Swift Dzire ZDi  2009         382000     120000  Diesel   \n",
       "8126               Tata Indigo CR4  2013         290000      25000  Diesel   \n",
       "8127               Tata Indigo CR4  2013         290000      25000  Diesel   \n",
       "\n",
       "     seller_type transmission                 owner     mileage   engine  \\\n",
       "0     Individual       Manual           First Owner   23.4 kmpl  1248 CC   \n",
       "1     Individual       Manual          Second Owner  21.14 kmpl  1498 CC   \n",
       "2     Individual       Manual           Third Owner   17.7 kmpl  1497 CC   \n",
       "3     Individual       Manual           First Owner   23.0 kmpl  1396 CC   \n",
       "4     Individual       Manual           First Owner   16.1 kmpl  1298 CC   \n",
       "...          ...          ...                   ...         ...      ...   \n",
       "8123  Individual       Manual           First Owner   18.5 kmpl  1197 CC   \n",
       "8124  Individual       Manual  Fourth & Above Owner   16.8 kmpl  1493 CC   \n",
       "8125  Individual       Manual           First Owner   19.3 kmpl  1248 CC   \n",
       "8126  Individual       Manual           First Owner  23.57 kmpl  1396 CC   \n",
       "8127  Individual       Manual           First Owner  23.57 kmpl  1396 CC   \n",
       "\n",
       "       max_power                     torque  seats  \n",
       "0         74 bhp             190Nm@ 2000rpm    5.0  \n",
       "1     103.52 bhp        250Nm@ 1500-2500rpm    5.0  \n",
       "2         78 bhp      12.7@ 2,700(kgm@ rpm)    5.0  \n",
       "3         90 bhp   22.4 kgm at 1750-2750rpm    5.0  \n",
       "4       88.2 bhp      11.5@ 4,500(kgm@ rpm)    5.0  \n",
       "...          ...                        ...    ...  \n",
       "8123   82.85 bhp           113.7Nm@ 4000rpm    5.0  \n",
       "8124     110 bhp  24@ 1,900-2,750(kgm@ rpm)    5.0  \n",
       "8125    73.9 bhp             190Nm@ 2000rpm    5.0  \n",
       "8126      70 bhp        140Nm@ 1800-3000rpm    5.0  \n",
       "8127      70 bhp        140Nm@ 1800-3000rpm    5.0  \n",
       "\n",
       "[8128 rows x 13 columns]"
      ]
     },
     "execution_count": 3,
     "metadata": {},
     "output_type": "execute_result"
    }
   ],
   "source": [
    "# visualize the head and tail of dataframe\n",
    "df"
   ]
  },
  {
   "cell_type": "code",
   "execution_count": 4,
   "metadata": {},
   "outputs": [],
   "source": [
    "# dropping torque column\n",
    "df.drop(['torque'], axis=1, inplace=True)"
   ]
  },
  {
   "cell_type": "code",
   "execution_count": 5,
   "metadata": {},
   "outputs": [
    {
     "data": {
      "text/plain": [
       "(8128, 12)"
      ]
     },
     "execution_count": 5,
     "metadata": {},
     "output_type": "execute_result"
    }
   ],
   "source": [
    "df.shape"
   ]
  },
  {
   "cell_type": "code",
   "execution_count": 6,
   "metadata": {},
   "outputs": [
    {
     "name": "stdout",
     "output_type": "stream",
     "text": [
      "<class 'pandas.core.frame.DataFrame'>\n",
      "RangeIndex: 8128 entries, 0 to 8127\n",
      "Data columns (total 12 columns):\n",
      " #   Column         Non-Null Count  Dtype  \n",
      "---  ------         --------------  -----  \n",
      " 0   name           8128 non-null   object \n",
      " 1   year           8128 non-null   int64  \n",
      " 2   selling_price  8128 non-null   int64  \n",
      " 3   km_driven      8128 non-null   int64  \n",
      " 4   fuel           8128 non-null   object \n",
      " 5   seller_type    8128 non-null   object \n",
      " 6   transmission   8128 non-null   object \n",
      " 7   owner          8128 non-null   object \n",
      " 8   mileage        7907 non-null   object \n",
      " 9   engine         7907 non-null   object \n",
      " 10  max_power      7913 non-null   object \n",
      " 11  seats          7907 non-null   float64\n",
      "dtypes: float64(1), int64(3), object(8)\n",
      "memory usage: 762.1+ KB\n"
     ]
    }
   ],
   "source": [
    "df.info()"
   ]
  },
  {
   "cell_type": "code",
   "execution_count": 7,
   "metadata": {},
   "outputs": [
    {
     "data": {
      "text/html": [
       "<div>\n",
       "<style scoped>\n",
       "    .dataframe tbody tr th:only-of-type {\n",
       "        vertical-align: middle;\n",
       "    }\n",
       "\n",
       "    .dataframe tbody tr th {\n",
       "        vertical-align: top;\n",
       "    }\n",
       "\n",
       "    .dataframe thead th {\n",
       "        text-align: right;\n",
       "    }\n",
       "</style>\n",
       "<table border=\"1\" class=\"dataframe\">\n",
       "  <thead>\n",
       "    <tr style=\"text-align: right;\">\n",
       "      <th></th>\n",
       "      <th>year</th>\n",
       "      <th>selling_price</th>\n",
       "      <th>km_driven</th>\n",
       "      <th>seats</th>\n",
       "    </tr>\n",
       "  </thead>\n",
       "  <tbody>\n",
       "    <tr>\n",
       "      <th>count</th>\n",
       "      <td>8128.000000</td>\n",
       "      <td>8.128000e+03</td>\n",
       "      <td>8.128000e+03</td>\n",
       "      <td>7907.000000</td>\n",
       "    </tr>\n",
       "    <tr>\n",
       "      <th>mean</th>\n",
       "      <td>2013.804011</td>\n",
       "      <td>6.382718e+05</td>\n",
       "      <td>6.981951e+04</td>\n",
       "      <td>5.416719</td>\n",
       "    </tr>\n",
       "    <tr>\n",
       "      <th>std</th>\n",
       "      <td>4.044249</td>\n",
       "      <td>8.062534e+05</td>\n",
       "      <td>5.655055e+04</td>\n",
       "      <td>0.959588</td>\n",
       "    </tr>\n",
       "    <tr>\n",
       "      <th>min</th>\n",
       "      <td>1983.000000</td>\n",
       "      <td>2.999900e+04</td>\n",
       "      <td>1.000000e+00</td>\n",
       "      <td>2.000000</td>\n",
       "    </tr>\n",
       "    <tr>\n",
       "      <th>25%</th>\n",
       "      <td>2011.000000</td>\n",
       "      <td>2.549990e+05</td>\n",
       "      <td>3.500000e+04</td>\n",
       "      <td>5.000000</td>\n",
       "    </tr>\n",
       "    <tr>\n",
       "      <th>50%</th>\n",
       "      <td>2015.000000</td>\n",
       "      <td>4.500000e+05</td>\n",
       "      <td>6.000000e+04</td>\n",
       "      <td>5.000000</td>\n",
       "    </tr>\n",
       "    <tr>\n",
       "      <th>75%</th>\n",
       "      <td>2017.000000</td>\n",
       "      <td>6.750000e+05</td>\n",
       "      <td>9.800000e+04</td>\n",
       "      <td>5.000000</td>\n",
       "    </tr>\n",
       "    <tr>\n",
       "      <th>max</th>\n",
       "      <td>2020.000000</td>\n",
       "      <td>1.000000e+07</td>\n",
       "      <td>2.360457e+06</td>\n",
       "      <td>14.000000</td>\n",
       "    </tr>\n",
       "  </tbody>\n",
       "</table>\n",
       "</div>"
      ],
      "text/plain": [
       "              year  selling_price     km_driven        seats\n",
       "count  8128.000000   8.128000e+03  8.128000e+03  7907.000000\n",
       "mean   2013.804011   6.382718e+05  6.981951e+04     5.416719\n",
       "std       4.044249   8.062534e+05  5.655055e+04     0.959588\n",
       "min    1983.000000   2.999900e+04  1.000000e+00     2.000000\n",
       "25%    2011.000000   2.549990e+05  3.500000e+04     5.000000\n",
       "50%    2015.000000   4.500000e+05  6.000000e+04     5.000000\n",
       "75%    2017.000000   6.750000e+05  9.800000e+04     5.000000\n",
       "max    2020.000000   1.000000e+07  2.360457e+06    14.000000"
      ]
     },
     "execution_count": 7,
     "metadata": {},
     "output_type": "execute_result"
    }
   ],
   "source": [
    "df.describe()"
   ]
  },
  {
   "attachments": {},
   "cell_type": "markdown",
   "metadata": {},
   "source": [
    "Because we are predicting *selling_price* which is a continuous label, we will try to implement a regressional model but there are only 4 applicable features so far.\n",
    "We will inspect more on those string-type values to see the possiblity to encode them."
   ]
  },
  {
   "cell_type": "code",
   "execution_count": 8,
   "metadata": {},
   "outputs": [
    {
     "data": {
      "text/html": [
       "<div>\n",
       "<style scoped>\n",
       "    .dataframe tbody tr th:only-of-type {\n",
       "        vertical-align: middle;\n",
       "    }\n",
       "\n",
       "    .dataframe tbody tr th {\n",
       "        vertical-align: top;\n",
       "    }\n",
       "\n",
       "    .dataframe thead th {\n",
       "        text-align: right;\n",
       "    }\n",
       "</style>\n",
       "<table border=\"1\" class=\"dataframe\">\n",
       "  <thead>\n",
       "    <tr style=\"text-align: right;\">\n",
       "      <th></th>\n",
       "      <th>fuel</th>\n",
       "      <th>seller_type</th>\n",
       "      <th>transmission</th>\n",
       "      <th>owner</th>\n",
       "    </tr>\n",
       "  </thead>\n",
       "  <tbody>\n",
       "    <tr>\n",
       "      <th>0</th>\n",
       "      <td>Diesel</td>\n",
       "      <td>Individual</td>\n",
       "      <td>Manual</td>\n",
       "      <td>First Owner</td>\n",
       "    </tr>\n",
       "    <tr>\n",
       "      <th>1</th>\n",
       "      <td>Diesel</td>\n",
       "      <td>Individual</td>\n",
       "      <td>Manual</td>\n",
       "      <td>Second Owner</td>\n",
       "    </tr>\n",
       "    <tr>\n",
       "      <th>2</th>\n",
       "      <td>Petrol</td>\n",
       "      <td>Individual</td>\n",
       "      <td>Manual</td>\n",
       "      <td>Third Owner</td>\n",
       "    </tr>\n",
       "    <tr>\n",
       "      <th>3</th>\n",
       "      <td>Diesel</td>\n",
       "      <td>Individual</td>\n",
       "      <td>Manual</td>\n",
       "      <td>First Owner</td>\n",
       "    </tr>\n",
       "    <tr>\n",
       "      <th>4</th>\n",
       "      <td>Petrol</td>\n",
       "      <td>Individual</td>\n",
       "      <td>Manual</td>\n",
       "      <td>First Owner</td>\n",
       "    </tr>\n",
       "  </tbody>\n",
       "</table>\n",
       "</div>"
      ],
      "text/plain": [
       "     fuel seller_type transmission         owner\n",
       "0  Diesel  Individual       Manual   First Owner\n",
       "1  Diesel  Individual       Manual  Second Owner\n",
       "2  Petrol  Individual       Manual   Third Owner\n",
       "3  Diesel  Individual       Manual   First Owner\n",
       "4  Petrol  Individual       Manual   First Owner"
      ]
     },
     "execution_count": 8,
     "metadata": {},
     "output_type": "execute_result"
    }
   ],
   "source": [
    "df.iloc[:,4:8].head()"
   ]
  },
  {
   "cell_type": "code",
   "execution_count": 9,
   "metadata": {},
   "outputs": [
    {
     "name": "stdout",
     "output_type": "stream",
     "text": [
      "The number of unique values of fuel: 4\n",
      "    Unique values of fuel: ['Diesel' 'Petrol' 'LPG' 'CNG']\n",
      "The number of unique values of seller_type: 3\n",
      "    Unique values of seller_type: ['Individual' 'Dealer' 'Trustmark Dealer']\n",
      "The number of unique values of transmission: 2\n",
      "    Unique values of transmission: ['Manual' 'Automatic']\n",
      "The number of unique values of owner: 5\n",
      "    Unique values of owner: ['First Owner' 'Second Owner' 'Third Owner' 'Fourth & Above Owner'\n",
      " 'Test Drive Car']\n"
     ]
    }
   ],
   "source": [
    "# counting the number of unique values of each columns above.\n",
    "\n",
    "for col in df.iloc[:,4:8].columns:\n",
    "    a = len(df[col].unique())\n",
    "    print(f'The number of unique values of {col}: {a}')\n",
    "    if a < 10:\n",
    "        print(f'    Unique values of {col}: {df[col].unique()}')\n"
   ]
  },
  {
   "cell_type": "code",
   "execution_count": 10,
   "metadata": {},
   "outputs": [
    {
     "data": {
      "text/plain": [
       "fuel\n",
       "Diesel    4402\n",
       "Petrol    3631\n",
       "CNG         57\n",
       "LPG         38\n",
       "Name: count, dtype: int64"
      ]
     },
     "execution_count": 10,
     "metadata": {},
     "output_type": "execute_result"
    }
   ],
   "source": [
    "df['fuel'].value_counts()"
   ]
  },
  {
   "attachments": {},
   "cell_type": "markdown",
   "metadata": {},
   "source": [
    "*mileage*, *engine*, *max_power*, and *torque* can be converted to number if their units are the same and, therfore, neglected.\n",
    "\n",
    "The *mileage* of natural gas-powered cars use different system from petrol-powered cars, so we will exclude natural gas-powered cars from the dataset. In addition, natural gas-powered cars have very few samples (95 cars)."
   ]
  },
  {
   "cell_type": "code",
   "execution_count": 11,
   "metadata": {},
   "outputs": [],
   "source": [
    "df.drop(df[df['fuel'] == 'CNG'].index, inplace=True)\n",
    "df.drop(df[df['fuel'] == 'LPG'].index, inplace=True)"
   ]
  },
  {
   "cell_type": "code",
   "execution_count": 12,
   "metadata": {},
   "outputs": [
    {
     "name": "stdout",
     "output_type": "stream",
     "text": [
      "Unique ending of \"mileage\": [' kmpl' nan]\n",
      "Unique ending of \"engine\": [' CC' nan]\n",
      "Unique ending of \"max_power\": [' bhp' nan '0']\n"
     ]
    }
   ],
   "source": [
    "# observing units in each columns\n",
    "# considering if we have to convert some units or not\n",
    "\n",
    "print(f'Unique ending of \"mileage\": {df[\"mileage\"].str[-5:].unique()}')\n",
    "print(f'Unique ending of \"engine\": {df[\"engine\"].str[-3:].unique()}')\n",
    "print(f'Unique ending of \"max_power\": {df[\"max_power\"].str[-4:].unique()}')\n"
   ]
  },
  {
   "cell_type": "code",
   "execution_count": 13,
   "metadata": {},
   "outputs": [],
   "source": [
    "# no unit conversion is needed\n",
    "# stripping the unit and change those columns to proper numeric format\n",
    "\n",
    "df['mileage'] = df['mileage'].str.strip(' kmpl')\n",
    "df['engine'] = df['engine'].str.strip(' CC')\n",
    "df['max_power'] = df['max_power'].str.strip(' bhp')\n",
    "\n",
    "df['mileage'] = df['mileage'].astype(float)\n",
    "df['engine'] = df['engine'].astype(float)\n",
    "df['max_power'] = df['max_power'].astype(float)"
   ]
  },
  {
   "cell_type": "code",
   "execution_count": 14,
   "metadata": {},
   "outputs": [],
   "source": [
    "# Extract brand from car's name and replace name column\n",
    "\n",
    "df['name'] = list(df['name'].str.split(' ', n=1).str.get(0))\n",
    "df.rename(columns={'name':'brand'}, inplace=True)"
   ]
  },
  {
   "cell_type": "code",
   "execution_count": 15,
   "metadata": {},
   "outputs": [
    {
     "data": {
      "text/html": [
       "<div>\n",
       "<style scoped>\n",
       "    .dataframe tbody tr th:only-of-type {\n",
       "        vertical-align: middle;\n",
       "    }\n",
       "\n",
       "    .dataframe tbody tr th {\n",
       "        vertical-align: top;\n",
       "    }\n",
       "\n",
       "    .dataframe thead th {\n",
       "        text-align: right;\n",
       "    }\n",
       "</style>\n",
       "<table border=\"1\" class=\"dataframe\">\n",
       "  <thead>\n",
       "    <tr style=\"text-align: right;\">\n",
       "      <th></th>\n",
       "      <th>brand</th>\n",
       "      <th>year</th>\n",
       "      <th>selling_price</th>\n",
       "      <th>km_driven</th>\n",
       "      <th>fuel</th>\n",
       "      <th>seller_type</th>\n",
       "      <th>transmission</th>\n",
       "      <th>owner</th>\n",
       "      <th>mileage</th>\n",
       "      <th>engine</th>\n",
       "      <th>max_power</th>\n",
       "      <th>seats</th>\n",
       "    </tr>\n",
       "  </thead>\n",
       "  <tbody>\n",
       "    <tr>\n",
       "      <th>0</th>\n",
       "      <td>Maruti</td>\n",
       "      <td>2014</td>\n",
       "      <td>450000</td>\n",
       "      <td>145500</td>\n",
       "      <td>Diesel</td>\n",
       "      <td>Individual</td>\n",
       "      <td>Manual</td>\n",
       "      <td>First Owner</td>\n",
       "      <td>23.40</td>\n",
       "      <td>1248.0</td>\n",
       "      <td>74.00</td>\n",
       "      <td>5.0</td>\n",
       "    </tr>\n",
       "    <tr>\n",
       "      <th>1</th>\n",
       "      <td>Skoda</td>\n",
       "      <td>2014</td>\n",
       "      <td>370000</td>\n",
       "      <td>120000</td>\n",
       "      <td>Diesel</td>\n",
       "      <td>Individual</td>\n",
       "      <td>Manual</td>\n",
       "      <td>Second Owner</td>\n",
       "      <td>21.14</td>\n",
       "      <td>1498.0</td>\n",
       "      <td>103.52</td>\n",
       "      <td>5.0</td>\n",
       "    </tr>\n",
       "    <tr>\n",
       "      <th>2</th>\n",
       "      <td>Honda</td>\n",
       "      <td>2006</td>\n",
       "      <td>158000</td>\n",
       "      <td>140000</td>\n",
       "      <td>Petrol</td>\n",
       "      <td>Individual</td>\n",
       "      <td>Manual</td>\n",
       "      <td>Third Owner</td>\n",
       "      <td>17.70</td>\n",
       "      <td>1497.0</td>\n",
       "      <td>78.00</td>\n",
       "      <td>5.0</td>\n",
       "    </tr>\n",
       "    <tr>\n",
       "      <th>3</th>\n",
       "      <td>Hyundai</td>\n",
       "      <td>2010</td>\n",
       "      <td>225000</td>\n",
       "      <td>127000</td>\n",
       "      <td>Diesel</td>\n",
       "      <td>Individual</td>\n",
       "      <td>Manual</td>\n",
       "      <td>First Owner</td>\n",
       "      <td>23.00</td>\n",
       "      <td>1396.0</td>\n",
       "      <td>90.00</td>\n",
       "      <td>5.0</td>\n",
       "    </tr>\n",
       "    <tr>\n",
       "      <th>4</th>\n",
       "      <td>Maruti</td>\n",
       "      <td>2007</td>\n",
       "      <td>130000</td>\n",
       "      <td>120000</td>\n",
       "      <td>Petrol</td>\n",
       "      <td>Individual</td>\n",
       "      <td>Manual</td>\n",
       "      <td>First Owner</td>\n",
       "      <td>16.10</td>\n",
       "      <td>1298.0</td>\n",
       "      <td>88.20</td>\n",
       "      <td>5.0</td>\n",
       "    </tr>\n",
       "  </tbody>\n",
       "</table>\n",
       "</div>"
      ],
      "text/plain": [
       "     brand  year  selling_price  km_driven    fuel seller_type transmission  \\\n",
       "0   Maruti  2014         450000     145500  Diesel  Individual       Manual   \n",
       "1    Skoda  2014         370000     120000  Diesel  Individual       Manual   \n",
       "2    Honda  2006         158000     140000  Petrol  Individual       Manual   \n",
       "3  Hyundai  2010         225000     127000  Diesel  Individual       Manual   \n",
       "4   Maruti  2007         130000     120000  Petrol  Individual       Manual   \n",
       "\n",
       "          owner  mileage  engine  max_power  seats  \n",
       "0   First Owner    23.40  1248.0      74.00    5.0  \n",
       "1  Second Owner    21.14  1498.0     103.52    5.0  \n",
       "2   Third Owner    17.70  1497.0      78.00    5.0  \n",
       "3   First Owner    23.00  1396.0      90.00    5.0  \n",
       "4   First Owner    16.10  1298.0      88.20    5.0  "
      ]
     },
     "execution_count": 15,
     "metadata": {},
     "output_type": "execute_result"
    }
   ],
   "source": [
    "df.head()"
   ]
  },
  {
   "attachments": {},
   "cell_type": "markdown",
   "metadata": {},
   "source": [
    "### Feature Encoding"
   ]
  },
  {
   "cell_type": "code",
   "execution_count": 16,
   "metadata": {},
   "outputs": [],
   "source": [
    "mp = dict()\n",
    "owner_mapping = {'Test Drive Car': 5,\n",
    "                 'First Owner': 1,\n",
    "                 'Second Owner': 2,\n",
    "                 'Third Owner': 3,\n",
    "                 'Fourth & Above Owner': 4}\n",
    "mp['owner_mapping'] = owner_mapping\n",
    "df.replace({'owner': owner_mapping}, inplace=True)"
   ]
  },
  {
   "cell_type": "code",
   "execution_count": 17,
   "metadata": {},
   "outputs": [
    {
     "data": {
      "text/html": [
       "<div>\n",
       "<style scoped>\n",
       "    .dataframe tbody tr th:only-of-type {\n",
       "        vertical-align: middle;\n",
       "    }\n",
       "\n",
       "    .dataframe tbody tr th {\n",
       "        vertical-align: top;\n",
       "    }\n",
       "\n",
       "    .dataframe thead th {\n",
       "        text-align: right;\n",
       "    }\n",
       "</style>\n",
       "<table border=\"1\" class=\"dataframe\">\n",
       "  <thead>\n",
       "    <tr style=\"text-align: right;\">\n",
       "      <th></th>\n",
       "      <th>brand</th>\n",
       "      <th>year</th>\n",
       "      <th>selling_price</th>\n",
       "      <th>km_driven</th>\n",
       "      <th>fuel</th>\n",
       "      <th>seller_type</th>\n",
       "      <th>transmission</th>\n",
       "      <th>owner</th>\n",
       "      <th>mileage</th>\n",
       "      <th>engine</th>\n",
       "      <th>max_power</th>\n",
       "      <th>seats</th>\n",
       "    </tr>\n",
       "  </thead>\n",
       "  <tbody>\n",
       "    <tr>\n",
       "      <th>0</th>\n",
       "      <td>Maruti</td>\n",
       "      <td>2014</td>\n",
       "      <td>450000</td>\n",
       "      <td>145500</td>\n",
       "      <td>Diesel</td>\n",
       "      <td>Individual</td>\n",
       "      <td>Manual</td>\n",
       "      <td>1</td>\n",
       "      <td>23.40</td>\n",
       "      <td>1248.0</td>\n",
       "      <td>74.00</td>\n",
       "      <td>5.0</td>\n",
       "    </tr>\n",
       "    <tr>\n",
       "      <th>1</th>\n",
       "      <td>Skoda</td>\n",
       "      <td>2014</td>\n",
       "      <td>370000</td>\n",
       "      <td>120000</td>\n",
       "      <td>Diesel</td>\n",
       "      <td>Individual</td>\n",
       "      <td>Manual</td>\n",
       "      <td>2</td>\n",
       "      <td>21.14</td>\n",
       "      <td>1498.0</td>\n",
       "      <td>103.52</td>\n",
       "      <td>5.0</td>\n",
       "    </tr>\n",
       "    <tr>\n",
       "      <th>2</th>\n",
       "      <td>Honda</td>\n",
       "      <td>2006</td>\n",
       "      <td>158000</td>\n",
       "      <td>140000</td>\n",
       "      <td>Petrol</td>\n",
       "      <td>Individual</td>\n",
       "      <td>Manual</td>\n",
       "      <td>3</td>\n",
       "      <td>17.70</td>\n",
       "      <td>1497.0</td>\n",
       "      <td>78.00</td>\n",
       "      <td>5.0</td>\n",
       "    </tr>\n",
       "    <tr>\n",
       "      <th>3</th>\n",
       "      <td>Hyundai</td>\n",
       "      <td>2010</td>\n",
       "      <td>225000</td>\n",
       "      <td>127000</td>\n",
       "      <td>Diesel</td>\n",
       "      <td>Individual</td>\n",
       "      <td>Manual</td>\n",
       "      <td>1</td>\n",
       "      <td>23.00</td>\n",
       "      <td>1396.0</td>\n",
       "      <td>90.00</td>\n",
       "      <td>5.0</td>\n",
       "    </tr>\n",
       "    <tr>\n",
       "      <th>4</th>\n",
       "      <td>Maruti</td>\n",
       "      <td>2007</td>\n",
       "      <td>130000</td>\n",
       "      <td>120000</td>\n",
       "      <td>Petrol</td>\n",
       "      <td>Individual</td>\n",
       "      <td>Manual</td>\n",
       "      <td>1</td>\n",
       "      <td>16.10</td>\n",
       "      <td>1298.0</td>\n",
       "      <td>88.20</td>\n",
       "      <td>5.0</td>\n",
       "    </tr>\n",
       "  </tbody>\n",
       "</table>\n",
       "</div>"
      ],
      "text/plain": [
       "     brand  year  selling_price  km_driven    fuel seller_type transmission  \\\n",
       "0   Maruti  2014         450000     145500  Diesel  Individual       Manual   \n",
       "1    Skoda  2014         370000     120000  Diesel  Individual       Manual   \n",
       "2    Honda  2006         158000     140000  Petrol  Individual       Manual   \n",
       "3  Hyundai  2010         225000     127000  Diesel  Individual       Manual   \n",
       "4   Maruti  2007         130000     120000  Petrol  Individual       Manual   \n",
       "\n",
       "   owner  mileage  engine  max_power  seats  \n",
       "0      1    23.40  1248.0      74.00    5.0  \n",
       "1      2    21.14  1498.0     103.52    5.0  \n",
       "2      3    17.70  1497.0      78.00    5.0  \n",
       "3      1    23.00  1396.0      90.00    5.0  \n",
       "4      1    16.10  1298.0      88.20    5.0  "
      ]
     },
     "execution_count": 17,
     "metadata": {},
     "output_type": "execute_result"
    }
   ],
   "source": [
    "df.head()"
   ]
  },
  {
   "cell_type": "code",
   "execution_count": 18,
   "metadata": {},
   "outputs": [
    {
     "name": "stdout",
     "output_type": "stream",
     "text": [
      "<class 'pandas.core.frame.DataFrame'>\n",
      "Index: 8033 entries, 0 to 8127\n",
      "Data columns (total 12 columns):\n",
      " #   Column         Non-Null Count  Dtype  \n",
      "---  ------         --------------  -----  \n",
      " 0   brand          8033 non-null   object \n",
      " 1   year           8033 non-null   int64  \n",
      " 2   selling_price  8033 non-null   int64  \n",
      " 3   km_driven      8033 non-null   int64  \n",
      " 4   fuel           8033 non-null   object \n",
      " 5   seller_type    8033 non-null   object \n",
      " 6   transmission   8033 non-null   object \n",
      " 7   owner          8033 non-null   int64  \n",
      " 8   mileage        7819 non-null   float64\n",
      " 9   engine         7819 non-null   float64\n",
      " 10  max_power      7825 non-null   float64\n",
      " 11  seats          7819 non-null   float64\n",
      "dtypes: float64(4), int64(4), object(4)\n",
      "memory usage: 815.9+ KB\n"
     ]
    }
   ],
   "source": [
    "df.info()"
   ]
  },
  {
   "cell_type": "code",
   "execution_count": 19,
   "metadata": {},
   "outputs": [
    {
     "name": "stdout",
     "output_type": "stream",
     "text": [
      "        encoded value\n",
      "                     \n",
      "Diesel              0\n",
      "Petrol              1\n",
      "           encoded value\n",
      "                        \n",
      "Automatic              0\n",
      "Manual                 1\n"
     ]
    }
   ],
   "source": [
    "# Import another library\n",
    "from sklearn.preprocessing import LabelEncoder\n",
    "\n",
    "# Encode 'fuel' and 'transmission' and print the encoding matrices\n",
    "\n",
    "le_fuel = LabelEncoder()\n",
    "le_fuel.fit(df['fuel'])\n",
    "encoded, mapping = pd.Series(list(le_fuel.classes_)).factorize()\n",
    "mp['fuel_mapping'] = mapping\n",
    "print(pd.DataFrame({'': mapping, 'encoded value': encoded}).set_index(''))\n",
    "df['fuel'] = le_fuel.transform(df['fuel'])\n",
    "\n",
    "le_transmission = LabelEncoder()\n",
    "le_transmission.fit(df['transmission'])\n",
    "encoded, mapping = pd.Series(list(le_transmission.classes_)).factorize()\n",
    "mp['transmission_mapping'] = mapping\n",
    "print(pd.DataFrame({'': mapping, 'encoded value': encoded}).set_index(''))\n",
    "df['transmission'] = le_transmission.transform(df['transmission'])"
   ]
  },
  {
   "cell_type": "code",
   "execution_count": 20,
   "metadata": {},
   "outputs": [],
   "source": [
    "df = pd.get_dummies(df, columns=['seller_type'], drop_first=True, dtype=int)"
   ]
  },
  {
   "cell_type": "markdown",
   "metadata": {},
   "source": [
    "*seller_type* has 2 dummies columns. \n",
    "- 1 in *seller_type_Individual* -> Individual\n",
    "- 1 in *seller_type_Trusmark Dealer* -> Trustmark Dealer\n",
    "- 0 in **both** columns -> Dealer"
   ]
  },
  {
   "cell_type": "code",
   "execution_count": 21,
   "metadata": {},
   "outputs": [
    {
     "data": {
      "text/html": [
       "<div>\n",
       "<style scoped>\n",
       "    .dataframe tbody tr th:only-of-type {\n",
       "        vertical-align: middle;\n",
       "    }\n",
       "\n",
       "    .dataframe tbody tr th {\n",
       "        vertical-align: top;\n",
       "    }\n",
       "\n",
       "    .dataframe thead th {\n",
       "        text-align: right;\n",
       "    }\n",
       "</style>\n",
       "<table border=\"1\" class=\"dataframe\">\n",
       "  <thead>\n",
       "    <tr style=\"text-align: right;\">\n",
       "      <th></th>\n",
       "      <th>brand</th>\n",
       "      <th>year</th>\n",
       "      <th>selling_price</th>\n",
       "      <th>km_driven</th>\n",
       "      <th>fuel</th>\n",
       "      <th>transmission</th>\n",
       "      <th>owner</th>\n",
       "      <th>mileage</th>\n",
       "      <th>engine</th>\n",
       "      <th>max_power</th>\n",
       "      <th>seats</th>\n",
       "      <th>seller_type_Individual</th>\n",
       "      <th>seller_type_Trustmark Dealer</th>\n",
       "    </tr>\n",
       "  </thead>\n",
       "  <tbody>\n",
       "    <tr>\n",
       "      <th>0</th>\n",
       "      <td>Maruti</td>\n",
       "      <td>2014</td>\n",
       "      <td>450000</td>\n",
       "      <td>145500</td>\n",
       "      <td>0</td>\n",
       "      <td>1</td>\n",
       "      <td>1</td>\n",
       "      <td>23.40</td>\n",
       "      <td>1248.0</td>\n",
       "      <td>74.00</td>\n",
       "      <td>5.0</td>\n",
       "      <td>1</td>\n",
       "      <td>0</td>\n",
       "    </tr>\n",
       "    <tr>\n",
       "      <th>1</th>\n",
       "      <td>Skoda</td>\n",
       "      <td>2014</td>\n",
       "      <td>370000</td>\n",
       "      <td>120000</td>\n",
       "      <td>0</td>\n",
       "      <td>1</td>\n",
       "      <td>2</td>\n",
       "      <td>21.14</td>\n",
       "      <td>1498.0</td>\n",
       "      <td>103.52</td>\n",
       "      <td>5.0</td>\n",
       "      <td>1</td>\n",
       "      <td>0</td>\n",
       "    </tr>\n",
       "    <tr>\n",
       "      <th>2</th>\n",
       "      <td>Honda</td>\n",
       "      <td>2006</td>\n",
       "      <td>158000</td>\n",
       "      <td>140000</td>\n",
       "      <td>1</td>\n",
       "      <td>1</td>\n",
       "      <td>3</td>\n",
       "      <td>17.70</td>\n",
       "      <td>1497.0</td>\n",
       "      <td>78.00</td>\n",
       "      <td>5.0</td>\n",
       "      <td>1</td>\n",
       "      <td>0</td>\n",
       "    </tr>\n",
       "    <tr>\n",
       "      <th>3</th>\n",
       "      <td>Hyundai</td>\n",
       "      <td>2010</td>\n",
       "      <td>225000</td>\n",
       "      <td>127000</td>\n",
       "      <td>0</td>\n",
       "      <td>1</td>\n",
       "      <td>1</td>\n",
       "      <td>23.00</td>\n",
       "      <td>1396.0</td>\n",
       "      <td>90.00</td>\n",
       "      <td>5.0</td>\n",
       "      <td>1</td>\n",
       "      <td>0</td>\n",
       "    </tr>\n",
       "    <tr>\n",
       "      <th>4</th>\n",
       "      <td>Maruti</td>\n",
       "      <td>2007</td>\n",
       "      <td>130000</td>\n",
       "      <td>120000</td>\n",
       "      <td>1</td>\n",
       "      <td>1</td>\n",
       "      <td>1</td>\n",
       "      <td>16.10</td>\n",
       "      <td>1298.0</td>\n",
       "      <td>88.20</td>\n",
       "      <td>5.0</td>\n",
       "      <td>1</td>\n",
       "      <td>0</td>\n",
       "    </tr>\n",
       "  </tbody>\n",
       "</table>\n",
       "</div>"
      ],
      "text/plain": [
       "     brand  year  selling_price  km_driven  fuel  transmission  owner  \\\n",
       "0   Maruti  2014         450000     145500     0             1      1   \n",
       "1    Skoda  2014         370000     120000     0             1      2   \n",
       "2    Honda  2006         158000     140000     1             1      3   \n",
       "3  Hyundai  2010         225000     127000     0             1      1   \n",
       "4   Maruti  2007         130000     120000     1             1      1   \n",
       "\n",
       "   mileage  engine  max_power  seats  seller_type_Individual  \\\n",
       "0    23.40  1248.0      74.00    5.0                       1   \n",
       "1    21.14  1498.0     103.52    5.0                       1   \n",
       "2    17.70  1497.0      78.00    5.0                       1   \n",
       "3    23.00  1396.0      90.00    5.0                       1   \n",
       "4    16.10  1298.0      88.20    5.0                       1   \n",
       "\n",
       "   seller_type_Trustmark Dealer  \n",
       "0                             0  \n",
       "1                             0  \n",
       "2                             0  \n",
       "3                             0  \n",
       "4                             0  "
      ]
     },
     "execution_count": 21,
     "metadata": {},
     "output_type": "execute_result"
    }
   ],
   "source": [
    "df.head()"
   ]
  },
  {
   "attachments": {},
   "cell_type": "markdown",
   "metadata": {},
   "source": [
    "## Exploratory Data Analysis"
   ]
  },
  {
   "cell_type": "code",
   "execution_count": 22,
   "metadata": {},
   "outputs": [
    {
     "data": {
      "text/plain": [
       "<Axes: xlabel='owner', ylabel='selling_price'>"
      ]
     },
     "execution_count": 22,
     "metadata": {},
     "output_type": "execute_result"
    },
    {
     "data": {
      "image/png": "[encoded data removed]",
      "text/plain": [
       "<Figure size 640x480 with 1 Axes>"
      ]
     },
     "metadata": {},
     "output_type": "display_data"
    }
   ],
   "source": [
    "# Observe 'owner' effect on selling_price\n",
    "sns.boxplot(data=df, x='owner', y='selling_price')"
   ]
  },
  {
   "cell_type": "code",
   "execution_count": 23,
   "metadata": {},
   "outputs": [],
   "source": [
    "# The test drive car selling_price is extremely expensive. We will exclude them.\n",
    "\n",
    "df = df[df['owner'] != 5]"
   ]
  },
  {
   "cell_type": "code",
   "execution_count": 24,
   "metadata": {},
   "outputs": [
    {
     "data": {
      "image/png": "[encoded data removed]",
      "text/plain": [
       "<Figure size 1000x600 with 1 Axes>"
      ]
     },
     "metadata": {},
     "output_type": "display_data"
    }
   ],
   "source": [
    "import matplotlib.pyplot as plt\n",
    "import seaborn as sns\n",
    "\n",
    "# plotting boxplot for car selling price by brand\n",
    "\n",
    "plt.figure(figsize=(10, 6))\n",
    "sns.boxplot(x='brand', y='selling_price', data=df)\n",
    "plt.title('Car Price Distribution by Brand')\n",
    "plt.xlabel('Brand')\n",
    "plt.ylabel('Price')\n",
    "plt.xticks(rotation=90)\n",
    "plt.show()"
   ]
  },
  {
   "attachments": {},
   "cell_type": "markdown",
   "metadata": {},
   "source": [
    "Cars from each brand has different selling price range. The brand origin (continent of origin) shows that European cars generally have higher price than Asian and American cars (inspected leter in Feature Engineering section). But, the third boxplot shows that, among cars from the same origin, there is still some difference in pricing between brand."
   ]
  },
  {
   "cell_type": "code",
   "execution_count": 25,
   "metadata": {},
   "outputs": [
    {
     "name": "stdout",
     "output_type": "stream",
     "text": [
      "<class 'pandas.core.frame.DataFrame'>\n",
      "Index: 8028 entries, 0 to 8127\n",
      "Data columns (total 13 columns):\n",
      " #   Column                        Non-Null Count  Dtype  \n",
      "---  ------                        --------------  -----  \n",
      " 0   brand                         8028 non-null   object \n",
      " 1   year                          8028 non-null   int64  \n",
      " 2   selling_price                 8028 non-null   int64  \n",
      " 3   km_driven                     8028 non-null   int64  \n",
      " 4   fuel                          8028 non-null   int32  \n",
      " 5   transmission                  8028 non-null   int32  \n",
      " 6   owner                         8028 non-null   int64  \n",
      " 7   mileage                       7814 non-null   float64\n",
      " 8   engine                        7814 non-null   float64\n",
      " 9   max_power                     7820 non-null   float64\n",
      " 10  seats                         7814 non-null   float64\n",
      " 11  seller_type_Individual        8028 non-null   int32  \n",
      " 12  seller_type_Trustmark Dealer  8028 non-null   int32  \n",
      "dtypes: float64(4), int32(4), int64(4), object(1)\n",
      "memory usage: 752.6+ KB\n"
     ]
    }
   ],
   "source": [
    "df.info()"
   ]
  },
  {
   "cell_type": "code",
   "execution_count": 26,
   "metadata": {},
   "outputs": [
    {
     "data": {
      "image/png": "[encoded data removed]",
      "text/plain": [
       "<Figure size 2500x800 with 10 Axes>"
      ]
     },
     "metadata": {},
     "output_type": "display_data"
    }
   ],
   "source": [
    "cols = ['year', 'selling_price', 'km_driven', 'mileage', 'engine', 'max_power', \n",
    "        'owner', 'fuel', 'transmission', 'seats']\n",
    "fig, axi = plt.subplots(2, 5, figsize=(25,8))\n",
    "\n",
    "for i,col in enumerate(cols):\n",
    "    if i<6:\n",
    "        sns.histplot(data=df, x=col, bins=20, ax=axi[i//5, i%5])\n",
    "    else:\n",
    "        sns.countplot(data=df, x=col, ax=axi[i//5, i%5])\n",
    "          \n",
    "plt.show()"
   ]
  },
  {
   "cell_type": "code",
   "execution_count": 27,
   "metadata": {},
   "outputs": [
    {
     "data": {
      "image/png": "[encoded data removed]",
      "text/plain": [
       "<Figure size 1200x800 with 4 Axes>"
      ]
     },
     "metadata": {},
     "output_type": "display_data"
    }
   ],
   "source": [
    "cols = ['owner', 'fuel', 'transmission', 'seats']\n",
    "fig, axi = plt.subplots(2, 2, figsize=(12,8))\n",
    "\n",
    "for i,col in enumerate(cols):\n",
    "    sns.boxplot(data=df, x=col, y='selling_price', ax=axi[i//2, i%2])\n",
    "          \n",
    "plt.show()"
   ]
  },
  {
   "cell_type": "code",
   "execution_count": 28,
   "metadata": {},
   "outputs": [
    {
     "data": {
      "image/png": "[encoded data removed]",
      "text/plain": [
       "<Figure size 1800x800 with 6 Axes>"
      ]
     },
     "metadata": {},
     "output_type": "display_data"
    }
   ],
   "source": [
    "cols = ['year', 'km_driven', 'mileage', 'engine', 'max_power']\n",
    "fig, axi = plt.subplots(2, 3, figsize=(18,8))\n",
    "\n",
    "for i,col in enumerate(cols):\n",
    "    sns.scatterplot(data=df, x=col, y='selling_price', ax=axi[i//3,i%3])\n",
    "sns.scatterplot(data=df, x='engine', y='max_power', ax=axi[1, 2], color='green')\n",
    "\n",
    "plt.show()"
   ]
  },
  {
   "attachments": {},
   "cell_type": "markdown",
   "metadata": {},
   "source": [
    "It seems that 'mileage' will be reaaly bad for 'selling_price' prediction\n",
    "\n",
    "On the other hand, 'engine' and 'max_power' seems to be correlated. They might be able to predict and fill each other values if it is unspecified or None. (spoiler alert: it provides no significant improvement on the model performance)"
   ]
  },
  {
   "attachments": {},
   "cell_type": "markdown",
   "metadata": {},
   "source": [
    "### Correlation Matrix"
   ]
  },
  {
   "cell_type": "code",
   "execution_count": 29,
   "metadata": {},
   "outputs": [
    {
     "data": {
      "text/plain": [
       "<Axes: >"
      ]
     },
     "execution_count": 29,
     "metadata": {},
     "output_type": "execute_result"
    },
    {
     "data": {
      "image/png": "[encoded data removed]",
      "text/plain": [
       "<Figure size 1500x800 with 2 Axes>"
      ]
     },
     "metadata": {},
     "output_type": "display_data"
    }
   ],
   "source": [
    "plt.figure(figsize = (15,8))\n",
    "sns.heatmap(df.select_dtypes(exclude='object').corr(), annot=True, cmap=\"coolwarm\")"
   ]
  },
  {
   "attachments": {},
   "cell_type": "markdown",
   "metadata": {},
   "source": [
    "### Predictive Power Score Matrix"
   ]
  },
  {
   "cell_type": "code",
   "execution_count": 30,
   "metadata": {},
   "outputs": [
    {
     "data": {
      "text/plain": [
       "<Axes: xlabel='x', ylabel='y'>"
      ]
     },
     "execution_count": 30,
     "metadata": {},
     "output_type": "execute_result"
    },
    {
     "data": {
      "image/png": "[encoded data removed]",
      "text/plain": [
       "<Figure size 1500x800 with 2 Axes>"
      ]
     },
     "metadata": {},
     "output_type": "display_data"
    }
   ],
   "source": [
    "import ppscore as pps\n",
    "\n",
    "\n",
    "matrix_df = pps.matrix(df.select_dtypes(exclude='object'))[['x', 'y', 'ppscore']].pivot(columns='x', index='y', values='ppscore')\n",
    "plt.figure(figsize = (15,8))\n",
    "sns.heatmap(matrix_df, vmin=0, vmax=1, cmap=\"Blues\", linewidths=0.5, annot=True)"
   ]
  },
  {
   "attachments": {},
   "cell_type": "markdown",
   "metadata": {},
   "source": [
    "## Feature Selection"
   ]
  },
  {
   "cell_type": "code",
   "execution_count": 31,
   "metadata": {},
   "outputs": [
    {
     "data": {
      "text/html": [
       "<div>\n",
       "<style scoped>\n",
       "    .dataframe tbody tr th:only-of-type {\n",
       "        vertical-align: middle;\n",
       "    }\n",
       "\n",
       "    .dataframe tbody tr th {\n",
       "        vertical-align: top;\n",
       "    }\n",
       "\n",
       "    .dataframe thead th {\n",
       "        text-align: right;\n",
       "    }\n",
       "</style>\n",
       "<table border=\"1\" class=\"dataframe\">\n",
       "  <thead>\n",
       "    <tr style=\"text-align: right;\">\n",
       "      <th></th>\n",
       "      <th>brand</th>\n",
       "      <th>year</th>\n",
       "      <th>selling_price</th>\n",
       "      <th>km_driven</th>\n",
       "      <th>fuel</th>\n",
       "      <th>transmission</th>\n",
       "      <th>owner</th>\n",
       "      <th>mileage</th>\n",
       "      <th>engine</th>\n",
       "      <th>max_power</th>\n",
       "      <th>seats</th>\n",
       "      <th>seller_type_Individual</th>\n",
       "      <th>seller_type_Trustmark Dealer</th>\n",
       "    </tr>\n",
       "  </thead>\n",
       "  <tbody>\n",
       "    <tr>\n",
       "      <th>0</th>\n",
       "      <td>Maruti</td>\n",
       "      <td>2014</td>\n",
       "      <td>450000</td>\n",
       "      <td>145500</td>\n",
       "      <td>0</td>\n",
       "      <td>1</td>\n",
       "      <td>1</td>\n",
       "      <td>23.40</td>\n",
       "      <td>1248.0</td>\n",
       "      <td>74.00</td>\n",
       "      <td>5.0</td>\n",
       "      <td>1</td>\n",
       "      <td>0</td>\n",
       "    </tr>\n",
       "    <tr>\n",
       "      <th>1</th>\n",
       "      <td>Skoda</td>\n",
       "      <td>2014</td>\n",
       "      <td>370000</td>\n",
       "      <td>120000</td>\n",
       "      <td>0</td>\n",
       "      <td>1</td>\n",
       "      <td>2</td>\n",
       "      <td>21.14</td>\n",
       "      <td>1498.0</td>\n",
       "      <td>103.52</td>\n",
       "      <td>5.0</td>\n",
       "      <td>1</td>\n",
       "      <td>0</td>\n",
       "    </tr>\n",
       "    <tr>\n",
       "      <th>2</th>\n",
       "      <td>Honda</td>\n",
       "      <td>2006</td>\n",
       "      <td>158000</td>\n",
       "      <td>140000</td>\n",
       "      <td>1</td>\n",
       "      <td>1</td>\n",
       "      <td>3</td>\n",
       "      <td>17.70</td>\n",
       "      <td>1497.0</td>\n",
       "      <td>78.00</td>\n",
       "      <td>5.0</td>\n",
       "      <td>1</td>\n",
       "      <td>0</td>\n",
       "    </tr>\n",
       "    <tr>\n",
       "      <th>3</th>\n",
       "      <td>Hyundai</td>\n",
       "      <td>2010</td>\n",
       "      <td>225000</td>\n",
       "      <td>127000</td>\n",
       "      <td>0</td>\n",
       "      <td>1</td>\n",
       "      <td>1</td>\n",
       "      <td>23.00</td>\n",
       "      <td>1396.0</td>\n",
       "      <td>90.00</td>\n",
       "      <td>5.0</td>\n",
       "      <td>1</td>\n",
       "      <td>0</td>\n",
       "    </tr>\n",
       "    <tr>\n",
       "      <th>4</th>\n",
       "      <td>Maruti</td>\n",
       "      <td>2007</td>\n",
       "      <td>130000</td>\n",
       "      <td>120000</td>\n",
       "      <td>1</td>\n",
       "      <td>1</td>\n",
       "      <td>1</td>\n",
       "      <td>16.10</td>\n",
       "      <td>1298.0</td>\n",
       "      <td>88.20</td>\n",
       "      <td>5.0</td>\n",
       "      <td>1</td>\n",
       "      <td>0</td>\n",
       "    </tr>\n",
       "  </tbody>\n",
       "</table>\n",
       "</div>"
      ],
      "text/plain": [
       "     brand  year  selling_price  km_driven  fuel  transmission  owner  \\\n",
       "0   Maruti  2014         450000     145500     0             1      1   \n",
       "1    Skoda  2014         370000     120000     0             1      2   \n",
       "2    Honda  2006         158000     140000     1             1      3   \n",
       "3  Hyundai  2010         225000     127000     0             1      1   \n",
       "4   Maruti  2007         130000     120000     1             1      1   \n",
       "\n",
       "   mileage  engine  max_power  seats  seller_type_Individual  \\\n",
       "0    23.40  1248.0      74.00    5.0                       1   \n",
       "1    21.14  1498.0     103.52    5.0                       1   \n",
       "2    17.70  1497.0      78.00    5.0                       1   \n",
       "3    23.00  1396.0      90.00    5.0                       1   \n",
       "4    16.10  1298.0      88.20    5.0                       1   \n",
       "\n",
       "   seller_type_Trustmark Dealer  \n",
       "0                             0  \n",
       "1                             0  \n",
       "2                             0  \n",
       "3                             0  \n",
       "4                             0  "
      ]
     },
     "execution_count": 31,
     "metadata": {},
     "output_type": "execute_result"
    }
   ],
   "source": [
    "df.head()"
   ]
  },
  {
   "cell_type": "code",
   "execution_count": 32,
   "metadata": {},
   "outputs": [],
   "source": [
    "# From correlation and ppscore map, we will drop several columns that potentially complicate the model rather than improving performances.\n",
    "\n",
    "df.drop(['fuel','owner','mileage', 'km_driven', 'seller_type_Individual', 'seller_type_Trustmark Dealer', 'seats'], axis=1, inplace=True)"
   ]
  },
  {
   "cell_type": "code",
   "execution_count": 33,
   "metadata": {},
   "outputs": [],
   "source": [
    "X = df.drop(['selling_price'], axis=1)\n",
    "y = df['selling_price']"
   ]
  },
  {
   "cell_type": "code",
   "execution_count": 34,
   "metadata": {},
   "outputs": [
    {
     "name": "stdout",
     "output_type": "stream",
     "text": [
      "<class 'pandas.core.frame.DataFrame'>\n",
      "Index: 8028 entries, 0 to 8127\n",
      "Data columns (total 5 columns):\n",
      " #   Column        Non-Null Count  Dtype  \n",
      "---  ------        --------------  -----  \n",
      " 0   brand         8028 non-null   object \n",
      " 1   year          8028 non-null   int64  \n",
      " 2   transmission  8028 non-null   int32  \n",
      " 3   engine        7814 non-null   float64\n",
      " 4   max_power     7820 non-null   float64\n",
      "dtypes: float64(2), int32(1), int64(1), object(1)\n",
      "memory usage: 345.0+ KB\n"
     ]
    }
   ],
   "source": [
    "X.info()"
   ]
  },
  {
   "attachments": {},
   "cell_type": "markdown",
   "metadata": {},
   "source": [
    "## Preprocessing"
   ]
  },
  {
   "cell_type": "markdown",
   "metadata": {},
   "source": [
    "### Find missing values"
   ]
  },
  {
   "cell_type": "code",
   "execution_count": 35,
   "metadata": {},
   "outputs": [
    {
     "data": {
      "text/plain": [
       "brand             0\n",
       "year              0\n",
       "transmission      0\n",
       "engine          214\n",
       "max_power       208\n",
       "dtype: int64"
      ]
     },
     "execution_count": 35,
     "metadata": {},
     "output_type": "execute_result"
    }
   ],
   "source": [
    "# Check Null values\n",
    "\n",
    "X.isna().sum()"
   ]
  },
  {
   "cell_type": "code",
   "execution_count": 36,
   "metadata": {},
   "outputs": [
    {
     "data": {
      "text/plain": [
       "0"
      ]
     },
     "execution_count": 36,
     "metadata": {},
     "output_type": "execute_result"
    }
   ],
   "source": [
    "y.isna().sum()\n",
    "\n",
    "# no null in selling_price label"
   ]
  },
  {
   "attachments": {},
   "cell_type": "markdown",
   "metadata": {},
   "source": [
    "### Train Test Split"
   ]
  },
  {
   "cell_type": "code",
   "execution_count": 37,
   "metadata": {},
   "outputs": [],
   "source": [
    "from sklearn.model_selection import train_test_split\n",
    "\n",
    "X_train, X_test, y_train, y_test = train_test_split(X, y, test_size=0.2, random_state=42)"
   ]
  },
  {
   "cell_type": "markdown",
   "metadata": {},
   "source": [
    "### Separate labels into 4 classes"
   ]
  },
  {
   "cell_type": "code",
   "execution_count": 38,
   "metadata": {},
   "outputs": [],
   "source": [
    "# separate y_train and y_test into 4 classes for further multinomial logistic regression\n",
    "\n",
    "y_train, cut_bins = pd.cut(y_train, 4, labels=False, retbins=True)"
   ]
  },
  {
   "cell_type": "code",
   "execution_count": 39,
   "metadata": {},
   "outputs": [
    {
     "data": {
      "text/plain": [
       "selling_price\n",
       "0    6090\n",
       "1     202\n",
       "2      94\n",
       "3      36\n",
       "Name: count, dtype: int64"
      ]
     },
     "execution_count": 39,
     "metadata": {},
     "output_type": "execute_result"
    }
   ],
   "source": [
    "y_train.value_counts()"
   ]
  },
  {
   "cell_type": "code",
   "execution_count": 40,
   "metadata": {},
   "outputs": [
    {
     "data": {
      "text/plain": [
       "array([  22828.999, 1822499.25 , 3614999.5  , 5407499.75 , 7200000.   ])"
      ]
     },
     "execution_count": 40,
     "metadata": {},
     "output_type": "execute_result"
    }
   ],
   "source": [
    "cut_bins"
   ]
  },
  {
   "cell_type": "code",
   "execution_count": 41,
   "metadata": {},
   "outputs": [],
   "source": [
    "cut_bins[0], cut_bins[4] = -np.inf, np.inf"
   ]
  },
  {
   "cell_type": "code",
   "execution_count": 42,
   "metadata": {},
   "outputs": [
    {
     "data": {
      "text/plain": [
       "array([      -inf, 1822499.25, 3614999.5 , 5407499.75,        inf])"
      ]
     },
     "execution_count": 42,
     "metadata": {},
     "output_type": "execute_result"
    }
   ],
   "source": [
    "cut_bins"
   ]
  },
  {
   "cell_type": "code",
   "execution_count": 43,
   "metadata": {},
   "outputs": [],
   "source": [
    "y_test = pd.cut(y_test, cut_bins, labels=False)"
   ]
  },
  {
   "cell_type": "code",
   "execution_count": 44,
   "metadata": {},
   "outputs": [
    {
     "data": {
      "text/plain": [
       "selling_price\n",
       "0    1504\n",
       "1      62\n",
       "2      30\n",
       "3      10\n",
       "Name: count, dtype: int64"
      ]
     },
     "execution_count": 44,
     "metadata": {},
     "output_type": "execute_result"
    }
   ],
   "source": [
    "y_test.value_counts()"
   ]
  },
  {
   "cell_type": "code",
   "execution_count": 45,
   "metadata": {},
   "outputs": [
    {
     "data": {
      "text/plain": [
       "selling_price    0\n",
       "dtype: int64"
      ]
     },
     "execution_count": 45,
     "metadata": {},
     "output_type": "execute_result"
    }
   ],
   "source": [
    "pd.DataFrame(y_test).isna().sum()"
   ]
  },
  {
   "cell_type": "code",
   "execution_count": 46,
   "metadata": {},
   "outputs": [],
   "source": [
    "y = pd.cut(y, cut_bins, labels=False)"
   ]
  },
  {
   "cell_type": "code",
   "execution_count": 47,
   "metadata": {},
   "outputs": [
    {
     "data": {
      "text/plain": [
       "selling_price    0\n",
       "dtype: int64"
      ]
     },
     "execution_count": 47,
     "metadata": {},
     "output_type": "execute_result"
    }
   ],
   "source": [
    "pd.DataFrame(y).isna().sum()"
   ]
  },
  {
   "attachments": {},
   "cell_type": "markdown",
   "metadata": {},
   "source": [
    "### Fill missing value"
   ]
  },
  {
   "cell_type": "code",
   "execution_count": 48,
   "metadata": {},
   "outputs": [
    {
     "data": {
      "text/html": [
       "<div>\n",
       "<style scoped>\n",
       "    .dataframe tbody tr th:only-of-type {\n",
       "        vertical-align: middle;\n",
       "    }\n",
       "\n",
       "    .dataframe tbody tr th {\n",
       "        vertical-align: top;\n",
       "    }\n",
       "\n",
       "    .dataframe thead th {\n",
       "        text-align: right;\n",
       "    }\n",
       "</style>\n",
       "<table border=\"1\" class=\"dataframe\">\n",
       "  <thead>\n",
       "    <tr style=\"text-align: right;\">\n",
       "      <th></th>\n",
       "      <th>brand</th>\n",
       "      <th>year</th>\n",
       "      <th>transmission</th>\n",
       "      <th>engine</th>\n",
       "      <th>max_power</th>\n",
       "    </tr>\n",
       "  </thead>\n",
       "  <tbody>\n",
       "    <tr>\n",
       "      <th>0</th>\n",
       "      <td>Maruti</td>\n",
       "      <td>2014</td>\n",
       "      <td>1</td>\n",
       "      <td>1248.0</td>\n",
       "      <td>74.00</td>\n",
       "    </tr>\n",
       "    <tr>\n",
       "      <th>1</th>\n",
       "      <td>Skoda</td>\n",
       "      <td>2014</td>\n",
       "      <td>1</td>\n",
       "      <td>1498.0</td>\n",
       "      <td>103.52</td>\n",
       "    </tr>\n",
       "    <tr>\n",
       "      <th>2</th>\n",
       "      <td>Honda</td>\n",
       "      <td>2006</td>\n",
       "      <td>1</td>\n",
       "      <td>1497.0</td>\n",
       "      <td>78.00</td>\n",
       "    </tr>\n",
       "    <tr>\n",
       "      <th>3</th>\n",
       "      <td>Hyundai</td>\n",
       "      <td>2010</td>\n",
       "      <td>1</td>\n",
       "      <td>1396.0</td>\n",
       "      <td>90.00</td>\n",
       "    </tr>\n",
       "    <tr>\n",
       "      <th>4</th>\n",
       "      <td>Maruti</td>\n",
       "      <td>2007</td>\n",
       "      <td>1</td>\n",
       "      <td>1298.0</td>\n",
       "      <td>88.20</td>\n",
       "    </tr>\n",
       "    <tr>\n",
       "      <th>...</th>\n",
       "      <td>...</td>\n",
       "      <td>...</td>\n",
       "      <td>...</td>\n",
       "      <td>...</td>\n",
       "      <td>...</td>\n",
       "    </tr>\n",
       "    <tr>\n",
       "      <th>8123</th>\n",
       "      <td>Hyundai</td>\n",
       "      <td>2013</td>\n",
       "      <td>1</td>\n",
       "      <td>1197.0</td>\n",
       "      <td>82.85</td>\n",
       "    </tr>\n",
       "    <tr>\n",
       "      <th>8124</th>\n",
       "      <td>Hyundai</td>\n",
       "      <td>2007</td>\n",
       "      <td>1</td>\n",
       "      <td>1493.0</td>\n",
       "      <td>110.00</td>\n",
       "    </tr>\n",
       "    <tr>\n",
       "      <th>8125</th>\n",
       "      <td>Maruti</td>\n",
       "      <td>2009</td>\n",
       "      <td>1</td>\n",
       "      <td>1248.0</td>\n",
       "      <td>73.90</td>\n",
       "    </tr>\n",
       "    <tr>\n",
       "      <th>8126</th>\n",
       "      <td>Tata</td>\n",
       "      <td>2013</td>\n",
       "      <td>1</td>\n",
       "      <td>1396.0</td>\n",
       "      <td>70.00</td>\n",
       "    </tr>\n",
       "    <tr>\n",
       "      <th>8127</th>\n",
       "      <td>Tata</td>\n",
       "      <td>2013</td>\n",
       "      <td>1</td>\n",
       "      <td>1396.0</td>\n",
       "      <td>70.00</td>\n",
       "    </tr>\n",
       "  </tbody>\n",
       "</table>\n",
       "<p>8028 rows × 5 columns</p>\n",
       "</div>"
      ],
      "text/plain": [
       "        brand  year  transmission  engine  max_power\n",
       "0      Maruti  2014             1  1248.0      74.00\n",
       "1       Skoda  2014             1  1498.0     103.52\n",
       "2       Honda  2006             1  1497.0      78.00\n",
       "3     Hyundai  2010             1  1396.0      90.00\n",
       "4      Maruti  2007             1  1298.0      88.20\n",
       "...       ...   ...           ...     ...        ...\n",
       "8123  Hyundai  2013             1  1197.0      82.85\n",
       "8124  Hyundai  2007             1  1493.0     110.00\n",
       "8125   Maruti  2009             1  1248.0      73.90\n",
       "8126     Tata  2013             1  1396.0      70.00\n",
       "8127     Tata  2013             1  1396.0      70.00\n",
       "\n",
       "[8028 rows x 5 columns]"
      ]
     },
     "execution_count": 48,
     "metadata": {},
     "output_type": "execute_result"
    }
   ],
   "source": [
    "X"
   ]
  },
  {
   "cell_type": "code",
   "execution_count": 49,
   "metadata": {},
   "outputs": [
    {
     "data": {
      "text/plain": [
       "{'owner_mapping': {'Test Drive Car': 5,\n",
       "  'First Owner': 1,\n",
       "  'Second Owner': 2,\n",
       "  'Third Owner': 3,\n",
       "  'Fourth & Above Owner': 4},\n",
       " 'fuel_mapping': Index(['Diesel', 'Petrol'], dtype='object'),\n",
       " 'transmission_mapping': Index(['Automatic', 'Manual'], dtype='object')}"
      ]
     },
     "execution_count": 49,
     "metadata": {},
     "output_type": "execute_result"
    }
   ],
   "source": [
    "mp"
   ]
  },
  {
   "cell_type": "code",
   "execution_count": 50,
   "metadata": {},
   "outputs": [],
   "source": [
    "# Fill missing 'engine' value\n",
    "\n",
    "filling = dict()\n",
    "filling['engine'] = X_train['engine'].median() "
   ]
  },
  {
   "cell_type": "code",
   "execution_count": 51,
   "metadata": {},
   "outputs": [
    {
     "data": {
      "text/plain": [
       "brand             0\n",
       "year              0\n",
       "transmission      0\n",
       "engine          171\n",
       "max_power       165\n",
       "dtype: int64"
      ]
     },
     "execution_count": 51,
     "metadata": {},
     "output_type": "execute_result"
    }
   ],
   "source": [
    "X_train.isna().sum()"
   ]
  },
  {
   "cell_type": "code",
   "execution_count": 52,
   "metadata": {},
   "outputs": [
    {
     "data": {
      "text/plain": [
       "(6422, 5)"
      ]
     },
     "execution_count": 52,
     "metadata": {},
     "output_type": "execute_result"
    }
   ],
   "source": [
    "X_train.shape"
   ]
  },
  {
   "cell_type": "code",
   "execution_count": 53,
   "metadata": {},
   "outputs": [
    {
     "data": {
      "text/plain": [
       "{'engine': 1248.0}"
      ]
     },
     "execution_count": 53,
     "metadata": {},
     "output_type": "execute_result"
    }
   ],
   "source": [
    "filling"
   ]
  },
  {
   "cell_type": "code",
   "execution_count": 54,
   "metadata": {},
   "outputs": [
    {
     "name": "stdout",
     "output_type": "stream",
     "text": [
      "<class 'pandas.core.frame.DataFrame'>\n",
      "Index: 6422 entries, 2982 to 7366\n",
      "Data columns (total 5 columns):\n",
      " #   Column        Non-Null Count  Dtype  \n",
      "---  ------        --------------  -----  \n",
      " 0   brand         6422 non-null   object \n",
      " 1   year          6422 non-null   int64  \n",
      " 2   transmission  6422 non-null   int32  \n",
      " 3   engine        6251 non-null   float64\n",
      " 4   max_power     6257 non-null   float64\n",
      "dtypes: float64(2), int32(1), int64(1), object(1)\n",
      "memory usage: 275.9+ KB\n"
     ]
    }
   ],
   "source": [
    "X_train.info()"
   ]
  },
  {
   "cell_type": "code",
   "execution_count": 55,
   "metadata": {},
   "outputs": [],
   "source": [
    "# Create other predictors filling matrices\n",
    "\n",
    "for col in ['year', 'max_power']:\n",
    "    filling[col] = X_train[col].median() \n",
    "for col in ['transmission']:\n",
    "    filling[col] = X_train[col].mode()[0]"
   ]
  },
  {
   "cell_type": "code",
   "execution_count": 56,
   "metadata": {},
   "outputs": [
    {
     "data": {
      "text/plain": [
       "{'engine': 1248.0, 'year': 2015.0, 'max_power': 82.85, 'transmission': 1}"
      ]
     },
     "execution_count": 56,
     "metadata": {},
     "output_type": "execute_result"
    }
   ],
   "source": [
    "filling"
   ]
  },
  {
   "cell_type": "code",
   "execution_count": 57,
   "metadata": {},
   "outputs": [],
   "source": [
    "# apply filling to X_train\n",
    "for col in list(filling.keys()):\n",
    "    X_train[col].fillna(filling[col], inplace=True)"
   ]
  },
  {
   "cell_type": "code",
   "execution_count": 58,
   "metadata": {},
   "outputs": [],
   "source": [
    "# apply filling to X_test\n",
    "for col in list(filling.keys()):\n",
    "    X_test[col].fillna(filling[col], inplace=True)"
   ]
  },
  {
   "cell_type": "code",
   "execution_count": 59,
   "metadata": {},
   "outputs": [
    {
     "data": {
      "text/html": [
       "<div>\n",
       "<style scoped>\n",
       "    .dataframe tbody tr th:only-of-type {\n",
       "        vertical-align: middle;\n",
       "    }\n",
       "\n",
       "    .dataframe tbody tr th {\n",
       "        vertical-align: top;\n",
       "    }\n",
       "\n",
       "    .dataframe thead th {\n",
       "        text-align: right;\n",
       "    }\n",
       "</style>\n",
       "<table border=\"1\" class=\"dataframe\">\n",
       "  <thead>\n",
       "    <tr style=\"text-align: right;\">\n",
       "      <th></th>\n",
       "      <th>brand</th>\n",
       "      <th>year</th>\n",
       "      <th>transmission</th>\n",
       "      <th>engine</th>\n",
       "      <th>max_power</th>\n",
       "    </tr>\n",
       "  </thead>\n",
       "  <tbody>\n",
       "    <tr>\n",
       "      <th>2982</th>\n",
       "      <td>Renault</td>\n",
       "      <td>2016</td>\n",
       "      <td>1</td>\n",
       "      <td>799.0</td>\n",
       "      <td>53.30</td>\n",
       "    </tr>\n",
       "    <tr>\n",
       "      <th>2430</th>\n",
       "      <td>Maruti</td>\n",
       "      <td>2013</td>\n",
       "      <td>1</td>\n",
       "      <td>796.0</td>\n",
       "      <td>47.30</td>\n",
       "    </tr>\n",
       "    <tr>\n",
       "      <th>6294</th>\n",
       "      <td>Hyundai</td>\n",
       "      <td>2009</td>\n",
       "      <td>1</td>\n",
       "      <td>1248.0</td>\n",
       "      <td>82.85</td>\n",
       "    </tr>\n",
       "    <tr>\n",
       "      <th>6255</th>\n",
       "      <td>Tata</td>\n",
       "      <td>2018</td>\n",
       "      <td>1</td>\n",
       "      <td>2179.0</td>\n",
       "      <td>153.86</td>\n",
       "    </tr>\n",
       "    <tr>\n",
       "      <th>4253</th>\n",
       "      <td>Mitsubishi</td>\n",
       "      <td>1999</td>\n",
       "      <td>1</td>\n",
       "      <td>1998.0</td>\n",
       "      <td>68.00</td>\n",
       "    </tr>\n",
       "    <tr>\n",
       "      <th>...</th>\n",
       "      <td>...</td>\n",
       "      <td>...</td>\n",
       "      <td>...</td>\n",
       "      <td>...</td>\n",
       "      <td>...</td>\n",
       "    </tr>\n",
       "    <tr>\n",
       "      <th>5293</th>\n",
       "      <td>Hyundai</td>\n",
       "      <td>2013</td>\n",
       "      <td>1</td>\n",
       "      <td>1197.0</td>\n",
       "      <td>78.90</td>\n",
       "    </tr>\n",
       "    <tr>\n",
       "      <th>5461</th>\n",
       "      <td>Maruti</td>\n",
       "      <td>2016</td>\n",
       "      <td>1</td>\n",
       "      <td>998.0</td>\n",
       "      <td>67.04</td>\n",
       "    </tr>\n",
       "    <tr>\n",
       "      <th>865</th>\n",
       "      <td>Maruti</td>\n",
       "      <td>2015</td>\n",
       "      <td>1</td>\n",
       "      <td>1248.0</td>\n",
       "      <td>88.76</td>\n",
       "    </tr>\n",
       "    <tr>\n",
       "      <th>7701</th>\n",
       "      <td>Lexus</td>\n",
       "      <td>2019</td>\n",
       "      <td>0</td>\n",
       "      <td>2487.0</td>\n",
       "      <td>214.56</td>\n",
       "    </tr>\n",
       "    <tr>\n",
       "      <th>7366</th>\n",
       "      <td>Maruti</td>\n",
       "      <td>2018</td>\n",
       "      <td>0</td>\n",
       "      <td>1197.0</td>\n",
       "      <td>83.10</td>\n",
       "    </tr>\n",
       "  </tbody>\n",
       "</table>\n",
       "<p>6422 rows × 5 columns</p>\n",
       "</div>"
      ],
      "text/plain": [
       "           brand  year  transmission  engine  max_power\n",
       "2982     Renault  2016             1   799.0      53.30\n",
       "2430      Maruti  2013             1   796.0      47.30\n",
       "6294     Hyundai  2009             1  1248.0      82.85\n",
       "6255        Tata  2018             1  2179.0     153.86\n",
       "4253  Mitsubishi  1999             1  1998.0      68.00\n",
       "...          ...   ...           ...     ...        ...\n",
       "5293     Hyundai  2013             1  1197.0      78.90\n",
       "5461      Maruti  2016             1   998.0      67.04\n",
       "865       Maruti  2015             1  1248.0      88.76\n",
       "7701       Lexus  2019             0  2487.0     214.56\n",
       "7366      Maruti  2018             0  1197.0      83.10\n",
       "\n",
       "[6422 rows x 5 columns]"
      ]
     },
     "execution_count": 59,
     "metadata": {},
     "output_type": "execute_result"
    }
   ],
   "source": [
    "# all NaN is filled\n",
    "X_train"
   ]
  },
  {
   "cell_type": "code",
   "execution_count": 60,
   "metadata": {},
   "outputs": [
    {
     "data": {
      "text/plain": [
       "brand           0\n",
       "year            0\n",
       "transmission    0\n",
       "engine          0\n",
       "max_power       0\n",
       "dtype: int64"
      ]
     },
     "execution_count": 60,
     "metadata": {},
     "output_type": "execute_result"
    }
   ],
   "source": [
    "X_train.isna().sum()"
   ]
  },
  {
   "attachments": {},
   "cell_type": "markdown",
   "metadata": {},
   "source": [
    "## Check Outliers"
   ]
  },
  {
   "cell_type": "code",
   "execution_count": 61,
   "metadata": {},
   "outputs": [],
   "source": [
    "def outlier_count(col, data = X_train):\n",
    "    \n",
    "    q75, q25 = np.percentile(data[col], [75, 25])\n",
    "    iqr = q75 - q25\n",
    "    \n",
    "    min_val = q25 - (iqr*1.5)\n",
    "    max_val = q75 + (iqr*1.5)\n",
    "    \n",
    "    outlier_count = len(np.where((data[col] > max_val) | (data[col] < min_val))[0])\n",
    "    \n",
    "    outlier_percent = round(outlier_count/len(data[col])*100, 2)\n",
    "    \n",
    "    if(outlier_count > 0):\n",
    "        print(\"\\n\"+15*'-' + col + 15*'-'+\"\\n\")\n",
    "        print('Number of outliers: {}'.format(outlier_count))\n",
    "        print('Percent of data that is outlier: {}%'.format(outlier_percent))"
   ]
  },
  {
   "cell_type": "code",
   "execution_count": 62,
   "metadata": {},
   "outputs": [
    {
     "name": "stdout",
     "output_type": "stream",
     "text": [
      "\n",
      "---------------year---------------\n",
      "\n",
      "Number of outliers: 63\n",
      "Percent of data that is outlier: 0.98%\n",
      "\n",
      "---------------transmission---------------\n",
      "\n",
      "Number of outliers: 849\n",
      "Percent of data that is outlier: 13.22%\n",
      "\n",
      "---------------engine---------------\n",
      "\n",
      "Number of outliers: 960\n",
      "Percent of data that is outlier: 14.95%\n",
      "\n",
      "---------------max_power---------------\n",
      "\n",
      "Number of outliers: 459\n",
      "Percent of data that is outlier: 7.15%\n"
     ]
    }
   ],
   "source": [
    "for col in X_train.select_dtypes(exclude='object').columns:\n",
    "    outlier_count(col)"
   ]
  },
  {
   "cell_type": "code",
   "execution_count": 63,
   "metadata": {},
   "outputs": [
    {
     "name": "stdout",
     "output_type": "stream",
     "text": [
      "<class 'pandas.core.frame.DataFrame'>\n",
      "Index: 6422 entries, 2982 to 7366\n",
      "Data columns (total 5 columns):\n",
      " #   Column        Non-Null Count  Dtype  \n",
      "---  ------        --------------  -----  \n",
      " 0   brand         6422 non-null   object \n",
      " 1   year          6422 non-null   int64  \n",
      " 2   transmission  6422 non-null   int32  \n",
      " 3   engine        6422 non-null   float64\n",
      " 4   max_power     6422 non-null   float64\n",
      "dtypes: float64(2), int32(1), int64(1), object(1)\n",
      "memory usage: 275.9+ KB\n"
     ]
    }
   ],
   "source": [
    "X_train.info()"
   ]
  },
  {
   "attachments": {},
   "cell_type": "markdown",
   "metadata": {},
   "source": [
    "## Scaling"
   ]
  },
  {
   "cell_type": "code",
   "execution_count": 64,
   "metadata": {},
   "outputs": [
    {
     "data": {
      "text/html": [
       "<div>\n",
       "<style scoped>\n",
       "    .dataframe tbody tr th:only-of-type {\n",
       "        vertical-align: middle;\n",
       "    }\n",
       "\n",
       "    .dataframe tbody tr th {\n",
       "        vertical-align: top;\n",
       "    }\n",
       "\n",
       "    .dataframe thead th {\n",
       "        text-align: right;\n",
       "    }\n",
       "</style>\n",
       "<table border=\"1\" class=\"dataframe\">\n",
       "  <thead>\n",
       "    <tr style=\"text-align: right;\">\n",
       "      <th></th>\n",
       "      <th>year</th>\n",
       "      <th>engine</th>\n",
       "      <th>max_power</th>\n",
       "    </tr>\n",
       "  </thead>\n",
       "  <tbody>\n",
       "    <tr>\n",
       "      <th>2982</th>\n",
       "      <td>2016</td>\n",
       "      <td>799.0</td>\n",
       "      <td>53.30</td>\n",
       "    </tr>\n",
       "    <tr>\n",
       "      <th>2430</th>\n",
       "      <td>2013</td>\n",
       "      <td>796.0</td>\n",
       "      <td>47.30</td>\n",
       "    </tr>\n",
       "    <tr>\n",
       "      <th>6294</th>\n",
       "      <td>2009</td>\n",
       "      <td>1248.0</td>\n",
       "      <td>82.85</td>\n",
       "    </tr>\n",
       "    <tr>\n",
       "      <th>6255</th>\n",
       "      <td>2018</td>\n",
       "      <td>2179.0</td>\n",
       "      <td>153.86</td>\n",
       "    </tr>\n",
       "    <tr>\n",
       "      <th>4253</th>\n",
       "      <td>1999</td>\n",
       "      <td>1998.0</td>\n",
       "      <td>68.00</td>\n",
       "    </tr>\n",
       "    <tr>\n",
       "      <th>...</th>\n",
       "      <td>...</td>\n",
       "      <td>...</td>\n",
       "      <td>...</td>\n",
       "    </tr>\n",
       "    <tr>\n",
       "      <th>5293</th>\n",
       "      <td>2013</td>\n",
       "      <td>1197.0</td>\n",
       "      <td>78.90</td>\n",
       "    </tr>\n",
       "    <tr>\n",
       "      <th>5461</th>\n",
       "      <td>2016</td>\n",
       "      <td>998.0</td>\n",
       "      <td>67.04</td>\n",
       "    </tr>\n",
       "    <tr>\n",
       "      <th>865</th>\n",
       "      <td>2015</td>\n",
       "      <td>1248.0</td>\n",
       "      <td>88.76</td>\n",
       "    </tr>\n",
       "    <tr>\n",
       "      <th>7701</th>\n",
       "      <td>2019</td>\n",
       "      <td>2487.0</td>\n",
       "      <td>214.56</td>\n",
       "    </tr>\n",
       "    <tr>\n",
       "      <th>7366</th>\n",
       "      <td>2018</td>\n",
       "      <td>1197.0</td>\n",
       "      <td>83.10</td>\n",
       "    </tr>\n",
       "  </tbody>\n",
       "</table>\n",
       "<p>6422 rows × 3 columns</p>\n",
       "</div>"
      ],
      "text/plain": [
       "      year  engine  max_power\n",
       "2982  2016   799.0      53.30\n",
       "2430  2013   796.0      47.30\n",
       "6294  2009  1248.0      82.85\n",
       "6255  2018  2179.0     153.86\n",
       "4253  1999  1998.0      68.00\n",
       "...    ...     ...        ...\n",
       "5293  2013  1197.0      78.90\n",
       "5461  2016   998.0      67.04\n",
       "865   2015  1248.0      88.76\n",
       "7701  2019  2487.0     214.56\n",
       "7366  2018  1197.0      83.10\n",
       "\n",
       "[6422 rows x 3 columns]"
      ]
     },
     "execution_count": 64,
     "metadata": {},
     "output_type": "execute_result"
    }
   ],
   "source": [
    "# The four features to be scaled\n",
    "X_train[['year','engine', 'max_power']]"
   ]
  },
  {
   "cell_type": "code",
   "execution_count": 65,
   "metadata": {},
   "outputs": [],
   "source": [
    "from sklearn.preprocessing import StandardScaler\n",
    "\n",
    "# feature scaling helps improve reach convergence faster\n",
    "to_be_scaled_cols = ['year', 'engine', 'max_power']\n",
    "\n",
    "scaler = StandardScaler()\n",
    "X_train[to_be_scaled_cols] = scaler.fit_transform(X_train[to_be_scaled_cols])"
   ]
  },
  {
   "cell_type": "code",
   "execution_count": 66,
   "metadata": {},
   "outputs": [],
   "source": [
    "# save the scaler for later uses\n",
    "\n",
    "import pickle\n",
    "pickle.dump(scaler, open('./model/scaler.pkl','wb'))"
   ]
  },
  {
   "cell_type": "code",
   "execution_count": 67,
   "metadata": {},
   "outputs": [
    {
     "data": {
      "text/html": [
       "<div>\n",
       "<style scoped>\n",
       "    .dataframe tbody tr th:only-of-type {\n",
       "        vertical-align: middle;\n",
       "    }\n",
       "\n",
       "    .dataframe tbody tr th {\n",
       "        vertical-align: top;\n",
       "    }\n",
       "\n",
       "    .dataframe thead th {\n",
       "        text-align: right;\n",
       "    }\n",
       "</style>\n",
       "<table border=\"1\" class=\"dataframe\">\n",
       "  <thead>\n",
       "    <tr style=\"text-align: right;\">\n",
       "      <th></th>\n",
       "      <th>brand</th>\n",
       "      <th>year</th>\n",
       "      <th>transmission</th>\n",
       "      <th>engine</th>\n",
       "      <th>max_power</th>\n",
       "    </tr>\n",
       "  </thead>\n",
       "  <tbody>\n",
       "    <tr>\n",
       "      <th>2982</th>\n",
       "      <td>Renault</td>\n",
       "      <td>0.539209</td>\n",
       "      <td>1</td>\n",
       "      <td>-1.316416</td>\n",
       "      <td>-1.088215</td>\n",
       "    </tr>\n",
       "    <tr>\n",
       "      <th>2430</th>\n",
       "      <td>Maruti</td>\n",
       "      <td>-0.202184</td>\n",
       "      <td>1</td>\n",
       "      <td>-1.322408</td>\n",
       "      <td>-1.258879</td>\n",
       "    </tr>\n",
       "    <tr>\n",
       "      <th>6294</th>\n",
       "      <td>Hyundai</td>\n",
       "      <td>-1.190708</td>\n",
       "      <td>1</td>\n",
       "      <td>-0.419696</td>\n",
       "      <td>-0.247691</td>\n",
       "    </tr>\n",
       "    <tr>\n",
       "      <th>6255</th>\n",
       "      <td>Tata</td>\n",
       "      <td>1.033471</td>\n",
       "      <td>1</td>\n",
       "      <td>1.439650</td>\n",
       "      <td>1.772125</td>\n",
       "    </tr>\n",
       "    <tr>\n",
       "      <th>4253</th>\n",
       "      <td>Mitsubishi</td>\n",
       "      <td>-3.662018</td>\n",
       "      <td>1</td>\n",
       "      <td>1.078166</td>\n",
       "      <td>-0.670086</td>\n",
       "    </tr>\n",
       "    <tr>\n",
       "      <th>...</th>\n",
       "      <td>...</td>\n",
       "      <td>...</td>\n",
       "      <td>...</td>\n",
       "      <td>...</td>\n",
       "      <td>...</td>\n",
       "    </tr>\n",
       "    <tr>\n",
       "      <th>5293</th>\n",
       "      <td>Hyundai</td>\n",
       "      <td>-0.202184</td>\n",
       "      <td>1</td>\n",
       "      <td>-0.521551</td>\n",
       "      <td>-0.360046</td>\n",
       "    </tr>\n",
       "    <tr>\n",
       "      <th>5461</th>\n",
       "      <td>Maruti</td>\n",
       "      <td>0.539209</td>\n",
       "      <td>1</td>\n",
       "      <td>-0.918983</td>\n",
       "      <td>-0.697393</td>\n",
       "    </tr>\n",
       "    <tr>\n",
       "      <th>865</th>\n",
       "      <td>Maruti</td>\n",
       "      <td>0.292078</td>\n",
       "      <td>1</td>\n",
       "      <td>-0.419696</td>\n",
       "      <td>-0.079587</td>\n",
       "    </tr>\n",
       "    <tr>\n",
       "      <th>7701</th>\n",
       "      <td>Lexus</td>\n",
       "      <td>1.280602</td>\n",
       "      <td>0</td>\n",
       "      <td>2.054772</td>\n",
       "      <td>3.498682</td>\n",
       "    </tr>\n",
       "    <tr>\n",
       "      <th>7366</th>\n",
       "      <td>Maruti</td>\n",
       "      <td>1.033471</td>\n",
       "      <td>0</td>\n",
       "      <td>-0.521551</td>\n",
       "      <td>-0.240580</td>\n",
       "    </tr>\n",
       "  </tbody>\n",
       "</table>\n",
       "<p>6422 rows × 5 columns</p>\n",
       "</div>"
      ],
      "text/plain": [
       "           brand      year  transmission    engine  max_power\n",
       "2982     Renault  0.539209             1 -1.316416  -1.088215\n",
       "2430      Maruti -0.202184             1 -1.322408  -1.258879\n",
       "6294     Hyundai -1.190708             1 -0.419696  -0.247691\n",
       "6255        Tata  1.033471             1  1.439650   1.772125\n",
       "4253  Mitsubishi -3.662018             1  1.078166  -0.670086\n",
       "...          ...       ...           ...       ...        ...\n",
       "5293     Hyundai -0.202184             1 -0.521551  -0.360046\n",
       "5461      Maruti  0.539209             1 -0.918983  -0.697393\n",
       "865       Maruti  0.292078             1 -0.419696  -0.079587\n",
       "7701       Lexus  1.280602             0  2.054772   3.498682\n",
       "7366      Maruti  1.033471             0 -0.521551  -0.240580\n",
       "\n",
       "[6422 rows x 5 columns]"
      ]
     },
     "execution_count": 67,
     "metadata": {},
     "output_type": "execute_result"
    }
   ],
   "source": [
    "X_train"
   ]
  },
  {
   "cell_type": "code",
   "execution_count": 68,
   "metadata": {},
   "outputs": [],
   "source": [
    "# one-hot encode the brand column\n",
    "brand_list = list(X['brand'].values)\n",
    "\n",
    "brand_dm = pd.get_dummies(X['brand'], columns=['brand'], dtype=int, prefix='b')\n",
    "brand_dm = brand_dm.columns\n",
    "\n",
    "col_order = ['year','transmission','engine','max_power']\n",
    "col_order.extend(sorted(brand_dm))\n",
    "\n",
    "X_train = pd.get_dummies(X_train, columns=['brand'], dtype=int, prefix='b')\n",
    "\n",
    "missing_cols = set(brand_dm) - set(X_train.columns)\n",
    "for col in missing_cols:\n",
    "    X_train[col] = 0\n",
    "\n",
    "X_train = X_train[col_order]"
   ]
  },
  {
   "cell_type": "code",
   "execution_count": 69,
   "metadata": {},
   "outputs": [
    {
     "data": {
      "text/plain": [
       "['year',\n",
       " 'transmission',\n",
       " 'engine',\n",
       " 'max_power',\n",
       " 'b_Ambassador',\n",
       " 'b_Ashok',\n",
       " 'b_Audi',\n",
       " 'b_BMW',\n",
       " 'b_Chevrolet',\n",
       " 'b_Daewoo',\n",
       " 'b_Datsun',\n",
       " 'b_Fiat',\n",
       " 'b_Force',\n",
       " 'b_Ford',\n",
       " 'b_Honda',\n",
       " 'b_Hyundai',\n",
       " 'b_Isuzu',\n",
       " 'b_Jaguar',\n",
       " 'b_Jeep',\n",
       " 'b_Kia',\n",
       " 'b_Land',\n",
       " 'b_Lexus',\n",
       " 'b_MG',\n",
       " 'b_Mahindra',\n",
       " 'b_Maruti',\n",
       " 'b_Mercedes-Benz',\n",
       " 'b_Mitsubishi',\n",
       " 'b_Nissan',\n",
       " 'b_Opel',\n",
       " 'b_Peugeot',\n",
       " 'b_Renault',\n",
       " 'b_Skoda',\n",
       " 'b_Tata',\n",
       " 'b_Toyota',\n",
       " 'b_Volkswagen',\n",
       " 'b_Volvo']"
      ]
     },
     "execution_count": 69,
     "metadata": {},
     "output_type": "execute_result"
    }
   ],
   "source": [
    "col_order"
   ]
  },
  {
   "cell_type": "code",
   "execution_count": 70,
   "metadata": {},
   "outputs": [],
   "source": [
    "def fill_scale_encode(df, brand_dm, scaler, col_order, to_be_scaled_cols):                     # For filling NaN and scale value in features df (X)\n",
    "\n",
    "    df[to_be_scaled_cols]  = scaler.transform(df[to_be_scaled_cols])\n",
    "\n",
    "    df = pd.get_dummies(df, columns=['brand'], dtype=int, prefix='b')\n",
    "    missing_cols = set(brand_dm) - set(df.columns)\n",
    "    for col in missing_cols:\n",
    "        df[col] = 0\n",
    "    \n",
    "    return df[col_order]"
   ]
  },
  {
   "cell_type": "code",
   "execution_count": 71,
   "metadata": {},
   "outputs": [],
   "source": [
    "X_test = fill_scale_encode(X_test, brand_dm, scaler, col_order, to_be_scaled_cols)"
   ]
  },
  {
   "cell_type": "code",
   "execution_count": 72,
   "metadata": {},
   "outputs": [
    {
     "name": "stdout",
     "output_type": "stream",
     "text": [
      "Shape of X_train: (6422, 36) —————————— null value: 0\n",
      "Shape of X_test: (1606, 36) —————————— null value: 0\n",
      "Shape of y_train: (6422,) —————————— null value: 0\n",
      "Shape of y_test: (1606,) —————————— null value: 0\n"
     ]
    }
   ],
   "source": [
    "# Check shape and NaN values in test and train set\n",
    "\n",
    "print(f\"Shape of X_train: {X_train.shape} —————————— null value: {X_train.isna().sum().sum()}\")\n",
    "print(f\"Shape of X_test: {X_test.shape} —————————— null value: {X_test.isna().sum().sum()}\")\n",
    "print(f\"Shape of y_train: {y_train.shape} —————————— null value: {y_train.isna().sum().sum()}\")\n",
    "print(f\"Shape of y_test: {y_test.shape} —————————— null value: {y_test.isna().sum().sum()}\")"
   ]
  },
  {
   "attachments": {},
   "cell_type": "markdown",
   "metadata": {},
   "source": [
    "## Modeling"
   ]
  },
  {
   "cell_type": "code",
   "execution_count": 73,
   "metadata": {},
   "outputs": [],
   "source": [
    "intercept = np.ones((X_train.shape[0], 1))\n",
    "X_train   = np.concatenate((intercept, X_train), axis=1)\n",
    "\n",
    "intercept = np.ones((X_test.shape[0], 1))\n",
    "X_test    = np.concatenate((intercept, X_test), axis=1)"
   ]
  },
  {
   "cell_type": "code",
   "execution_count": 74,
   "metadata": {},
   "outputs": [],
   "source": [
    "y_train = y_train.to_numpy()\n",
    "y_test = y_test.to_numpy()"
   ]
  },
  {
   "cell_type": "code",
   "execution_count": 75,
   "metadata": {},
   "outputs": [],
   "source": [
    "# make sure our y is in the shape of (m, k)\n",
    "# we will convert our output vector in \n",
    "# matrix where no. of columns is equal to the no. of classes. \n",
    "# The values in the matrix will be 0 or 1. For instance the rows \n",
    "# where we have output 2 the column 2 will contain 1 and the rest are all 0.\n",
    "# in simple words, y will be of shape (m, k)\n",
    "k = len(set(y))  # no. of class  (can also use np.unique)\n",
    "m = X_train.shape[0]  # no.of samples\n",
    "n = X_train.shape[1]  # no. of features\n",
    "Y_train_encoded = np.zeros((m, k))\n",
    "for each_class in range(k):\n",
    "    cond = y_train==each_class\n",
    "    Y_train_encoded[np.where(cond), each_class] = 1"
   ]
  },
  {
   "cell_type": "code",
   "execution_count": 76,
   "metadata": {},
   "outputs": [
    {
     "data": {
      "text/plain": [
       "(6422,)"
      ]
     },
     "execution_count": 76,
     "metadata": {},
     "output_type": "execute_result"
    }
   ],
   "source": [
    "y_train.shape"
   ]
  },
  {
   "cell_type": "code",
   "execution_count": 77,
   "metadata": {},
   "outputs": [],
   "source": [
    "# # visualize class clusters\n",
    "# plt.figure(figsize=(6,6))\n",
    "# plt.scatter(X[:, 0], X[:, 1], label='class 0', c=y)\n",
    "# plt.show()"
   ]
  },
  {
   "cell_type": "code",
   "execution_count": 78,
   "metadata": {},
   "outputs": [],
   "source": [
    "class LogisticRegression:\n",
    "    \n",
    "    def __init__(self, k, n, method, alpha = 0.001, max_iter=5000, regularization = False):\n",
    "        self.k = k\n",
    "        self.n = n\n",
    "        self.alpha = alpha\n",
    "        self.max_iter = max_iter\n",
    "        self.method = method\n",
    "        self.regularization = regularization\n",
    "    \n",
    "    def fit(self, X, Y):\n",
    "        self.W = np.random.rand(self.n, self.k)\n",
    "        self.losses = []\n",
    "        \n",
    "        if self.method == \"batch\":\n",
    "            start_time = time.time()\n",
    "            for i in range(self.max_iter):\n",
    "                loss, grad =  self.gradient(X, Y)\n",
    "                self.losses.append(loss)\n",
    "                self.W = self.W - self.alpha * grad\n",
    "                if i % 500 == 0:\n",
    "                    print(f\"Loss at iteration {i}\", loss)\n",
    "            print(f\"time taken: {time.time() - start_time}\")\n",
    "            \n",
    "        elif self.method == \"minibatch\":\n",
    "            start_time = time.time()\n",
    "            batch_size = int(0.3 * X.shape[0])\n",
    "            for i in range(self.max_iter):\n",
    "                ix = np.random.randint(0, X.shape[0]) #<----with replacement\n",
    "                batch_X = X[ix:ix+batch_size]\n",
    "                batch_Y = Y[ix:ix+batch_size]\n",
    "                loss, grad = self.gradient(batch_X, batch_Y)\n",
    "                self.losses.append(loss)\n",
    "                self.W = self.W - self.alpha * grad\n",
    "                if i % 500 == 0:\n",
    "                    print(f\"Loss at iteration {i}\", loss)\n",
    "            print(f\"time taken: {time.time() - start_time}\")\n",
    "            \n",
    "        elif self.method == \"sto\":\n",
    "            start_time = time.time()\n",
    "            list_of_used_ix = []\n",
    "            for i in range(self.max_iter):\n",
    "                idx = np.random.randint(X.shape[0])\n",
    "                while i in list_of_used_ix:\n",
    "                    idx = np.random.randint(X.shape[0])\n",
    "                X_train = X[idx, :].reshape(1, -1)\n",
    "                Y_train = Y[idx]\n",
    "                loss, grad = self.gradient(X_train, Y_train)\n",
    "                self.losses.append(loss)\n",
    "                self.W = self.W - self.alpha * grad\n",
    "                \n",
    "                list_of_used_ix.append(i)\n",
    "                if len(list_of_used_ix) == X.shape[0]:\n",
    "                    list_of_used_ix = []\n",
    "                if i % 500 == 0:\n",
    "                    print(f\"Loss at iteration {i}\", loss)\n",
    "            print(f\"time taken: {time.time() - start_time}\")\n",
    "            \n",
    "        else:\n",
    "            raise ValueError('Method must be one of the followings: \"batch\", \"minibatch\" or \"sto\".')\n",
    "        \n",
    "        \n",
    "    def gradient(self, X, Y):\n",
    "        m = X.shape[0]\n",
    "        h = self.h_theta(X, self.W)\n",
    "        loss = - np.sum(Y*np.log(h)) / m\n",
    "        error = h - Y\n",
    "        if not self.regularization:\n",
    "            penalty = 0\n",
    "        else:\n",
    "            penalty = self.regularization.derivation(self.W)\n",
    "        grad = self.softmax_grad(X, error) + penalty\n",
    "        return loss, grad\n",
    "\n",
    "    def softmax(self, theta_t_x):\n",
    "        return np.exp(theta_t_x) / np.sum(np.exp(theta_t_x), axis=1, keepdims=True)\n",
    "\n",
    "    def softmax_grad(self, X, error):\n",
    "        return  X.T @ error\n",
    "\n",
    "    def h_theta(self, X, W):\n",
    "        '''\n",
    "        Input:\n",
    "            X shape: (m, n)\n",
    "            w shape: (n, k)\n",
    "        Returns:\n",
    "            yhat shape: (m, k)\n",
    "        '''\n",
    "        return self.softmax(X @ W)\n",
    "    \n",
    "    def predict(self, X_test):\n",
    "        return np.argmax(self.h_theta(X_test, self.W), axis=1)\n",
    "    \n",
    "    def plot(self):\n",
    "        plt.plot(np.arange(len(self.losses)) , self.losses, label = \"Train Losses\")\n",
    "        plt.title(\"Losses\")\n",
    "        plt.xlabel(\"epoch\")\n",
    "        plt.ylabel(\"losses\")\n",
    "        plt.legend()\n",
    "\n",
    "    def check_shape_mismatch(self, ytrue, yhat):\n",
    "        if yhat.shape != ytrue.shape:\n",
    "            print('The arguments shape are mismatched')\n",
    "            return None\n",
    "\n",
    "    def class_of_interest(self, c):\n",
    "        if c is None: #class of interest\n",
    "            c_list = range(self.k)\n",
    "        elif isinstance(c, int):\n",
    "            c_list = [c]\n",
    "        elif isinstance(c, list):\n",
    "            c_list = c\n",
    "        else:\n",
    "            print('invalid class of interest')\n",
    "            return\n",
    "        return c_list\n",
    "\n",
    "    def accuracy(self, ytrue, yhat):\n",
    "        self.check_shape_mismatch(ytrue, yhat)\n",
    "        n = len(yhat)\n",
    "        m = np.sum(yhat == ytrue)\n",
    "        return m/n\n",
    "    \n",
    "    def precision(self, ytrue, yhat, clss = None):\n",
    "        self.check_shape_mismatch(ytrue, yhat)\n",
    "        prec = dict()   \n",
    "        c_list = self.class_of_interest(clss)\n",
    "        for c in c_list:\n",
    "            yhat_c = np.where(yhat == c, 1, 0)\n",
    "            ytrue_c = np.where(ytrue == c, 1, 0)\n",
    "            TP = np.sum(np.all([yhat_c==1, ytrue_c==1], axis=0))\n",
    "            FP = np.sum(np.all([yhat_c==1, ytrue_c==0], axis=0))\n",
    "            if TP+FP == 0:\n",
    "                # no positive is predicted\n",
    "                # 'zero division error'\n",
    "                prec[c] = 0\n",
    "            else:\n",
    "                prec[c] = TP/(TP+FP)\n",
    "        return prec\n",
    "    \n",
    "    def recall(self, ytrue, yhat, clss=None):\n",
    "        self.check_shape_mismatch(ytrue, yhat)\n",
    "        rec = dict()   \n",
    "        c_list = self.class_of_interest(clss)\n",
    "        for c in c_list:\n",
    "            yhat_c = np.where(yhat == c, 1, 0)\n",
    "            ytrue_c = np.where(ytrue == c, 1, 0)\n",
    "            TP = np.sum(np.all([yhat_c==1, ytrue_c==1], axis=0))\n",
    "            FN = np.sum(np.all([yhat_c==0, ytrue_c==1], axis=0))\n",
    "            if TP+FN == 0:\n",
    "                # no positive in true value\n",
    "                # 'zero division error'\n",
    "                rec[c] = 0\n",
    "            else:\n",
    "                rec[c] = TP/(TP+FN)\n",
    "        return rec\n",
    "    \n",
    "    def f1_score(self, ytrue, yhat, clss=None):\n",
    "        f1 = dict()\n",
    "        c_list = self.class_of_interest(clss)\n",
    "        prec = self.precision(ytrue, yhat, clss)\n",
    "        rec = self.recall(ytrue, yhat, clss)\n",
    "        for c in c_list:\n",
    "            if prec[c] + rec[c] == 0:\n",
    "                # 'zero division error'\n",
    "                f1[c] = 0\n",
    "            else:\n",
    "                f1[c] = (2*prec[c]*rec[c]) / (prec[c] + rec[c])\n",
    "        return f1\n",
    "    \n",
    "    def macro_precision(self, ytrue, yhat):\n",
    "        prec = self.precision(ytrue, yhat)\n",
    "        mac_prec = sum(prec.values()) / self.k\n",
    "        return mac_prec\n",
    "    \n",
    "    def macro_recall(self, ytrue, yhat):\n",
    "        rec = self.recall(ytrue, yhat)\n",
    "        mac_rec = sum(rec.values()) / self.k\n",
    "        return mac_rec\n",
    "    \n",
    "    def macro_f1_score(self, ytrue, yhat):\n",
    "        f1 = self.f1_score(ytrue, yhat)\n",
    "        mac_f1 = sum(f1.values()) / self.k\n",
    "        return mac_f1\n",
    "    \n",
    "    def weighted_precision(self, ytrue, yhat):\n",
    "        prec = np.array([k for k in self.precision(ytrue, yhat).values()])\n",
    "        w = np.array(self.support(ytrue)) / len(ytrue)\n",
    "        return prec@w\n",
    "    \n",
    "    def weighted_recall(self, ytrue, yhat):\n",
    "        rec = np.array([k for k in self.recall(ytrue, yhat).values()])\n",
    "        w = np.array(self.support(ytrue)) / len(ytrue)\n",
    "        return rec@w\n",
    "    \n",
    "    def weighted_f1_score(self, ytrue, yhat):\n",
    "        f1 = np.array([k for k in self.f1_score(ytrue, yhat).values()])\n",
    "        w = np.array(self.support(ytrue)) / len(ytrue)\n",
    "        return f1@w\n",
    "    \n",
    "    def support(self, ytrue):\n",
    "        sup = [None] * self.k\n",
    "        for c in range(self.k):\n",
    "            sup[c] = np.sum(ytrue == c)\n",
    "        return sup\n",
    "    \n",
    "    def classification_report(self, ytrue, yhat):\n",
    "        self.check_shape_mismatch(ytrue, yhat)\n",
    "\n",
    "        prec = np.array([k for k in self.precision(ytrue, yhat).values()])\n",
    "        rec = np.array([k for k in self.recall(ytrue, yhat).values()])\n",
    "        f1 = np.array([k for k in self.f1_score(ytrue, yhat).values()])\n",
    "        w = np.array(self.support(ytrue)) / len(ytrue)\n",
    "        part1 = pd.DataFrame({'precision':[\"{:.4f}\".format(k) for k in prec],\n",
    "                'recall':[\"{:.4f}\".format(k) for k in rec],\n",
    "                'f1-score':[\"{:.4f}\".format(k) for k in f1],\n",
    "                'support': self.support(ytrue)})\n",
    "        part1.set_index([pd.Series([' '*10+'0', ' '*10+'1', ' '*10+'2', ' '*10+'3'])], inplace=True)\n",
    "\n",
    "        part2 = pd.DataFrame({'accuracy': ['',  '', \"{:.4f}\".format(self.accuracy(ytrue, yhat)), len(ytrue)],\n",
    "                              'macro avg': [\"{:.4f}\".format(np.mean(prec)), \"{:.4f}\".format(np.mean(rec)), \"{:.4f}\".format(np.mean(f1)), len(ytrue)],\n",
    "                              'weighted avg': [\"{:.4f}\".format(prec@w), \"{:.4f}\".format(rec@w), \"{:.4f}\".format(f1@w), len(ytrue)]\n",
    "                              }, index=None).set_index(pd.Index(['','','',''])).T\n",
    "        return part1.to_string() + \"\\n\" + part2.to_string()\n"
   ]
  },
  {
   "cell_type": "code",
   "execution_count": 79,
   "metadata": {},
   "outputs": [
    {
     "name": "stdout",
     "output_type": "stream",
     "text": [
      "Loss at iteration 0 1.228399482728898\n",
      "Loss at iteration 500 0.05006159278023738\n",
      "Loss at iteration 1000 0.051745177134798585\n",
      "Loss at iteration 1500 0.04030215167358751\n",
      "Loss at iteration 2000 0.039836359688948664\n",
      "Loss at iteration 2500 0.04559688906330356\n",
      "Loss at iteration 3000 0.04053131823930776\n",
      "Loss at iteration 3500 0.03637944132842306\n",
      "Loss at iteration 4000 0.03552420063864832\n",
      "Loss at iteration 4500 0.045822068232768125\n",
      "time taken: 2.3247387409210205\n",
      "=========Classification report=======\n",
      "Report:                precision    recall  f1-score   support\n",
      "\n",
      "           0       0.99      1.00      1.00      1504\n",
      "           1       0.86      0.82      0.84        62\n",
      "           2       0.82      0.47      0.60        30\n",
      "           3       0.33      0.80      0.47        10\n",
      "\n",
      "    accuracy                           0.98      1606\n",
      "   macro avg       0.75      0.77      0.73      1606\n",
      "weighted avg       0.98      0.98      0.98      1606\n",
      "\n"
     ]
    },
    {
     "data": {
      "image/png": "[encoded data removed]",
      "text/plain": [
       "<Figure size 640x480 with 1 Axes>"
      ]
     },
     "metadata": {},
     "output_type": "display_data"
    }
   ],
   "source": [
    "from sklearn.metrics import classification_report\n",
    "\n",
    "k = len(set(y))\n",
    "model = LogisticRegression(k, X_train.shape[1], \"minibatch\")\n",
    "model.fit(X_train, Y_train_encoded)\n",
    "yhat = model.predict(X_test)\n",
    "model.plot()\n",
    "print(\"=========Classification report=======\")\n",
    "print(\"Report: \", classification_report(y_test, yhat))"
   ]
  },
  {
   "cell_type": "code",
   "execution_count": 80,
   "metadata": {},
   "outputs": [
    {
     "data": {
      "text/plain": [
       "(1606,)"
      ]
     },
     "execution_count": 80,
     "metadata": {},
     "output_type": "execute_result"
    }
   ],
   "source": [
    "y_test.shape"
   ]
  },
  {
   "cell_type": "code",
   "execution_count": 81,
   "metadata": {},
   "outputs": [
    {
     "data": {
      "text/plain": [
       "(1606,)"
      ]
     },
     "execution_count": 81,
     "metadata": {},
     "output_type": "execute_result"
    }
   ],
   "source": [
    "yhat.shape"
   ]
  },
  {
   "cell_type": "code",
   "execution_count": 84,
   "metadata": {},
   "outputs": [
    {
     "name": "stdout",
     "output_type": "stream",
     "text": [
      "=========Classification report=======\n",
      "Report: \n",
      "             precision  recall f1-score  support\n",
      "          0    0.9947  0.9960   0.9953     1504\n",
      "          1    0.8644  0.8226   0.8430       62\n",
      "          2    0.8235  0.4667   0.5957       30\n",
      "          3    0.3333  0.8000   0.4706       10\n",
      "                                          \n",
      "accuracy                      0.9782  1606\n",
      "macro avg     0.7540  0.7713  0.7262  1606\n",
      "weighted avg  0.9823  0.9782  0.9787  1606\n"
     ]
    }
   ],
   "source": [
    "print(\"=========Classification report=======\")\n",
    "print(\"Report: \\n\", model.classification_report(y_test, yhat))"
   ]
  },
  {
   "cell_type": "markdown",
   "metadata": {},
   "source": [
    "## Apply Ridge"
   ]
  },
  {
   "cell_type": "code",
   "execution_count": 85,
   "metadata": {},
   "outputs": [],
   "source": [
    "class RidgePenalty:\n",
    "    \n",
    "    def __init__(self, l):\n",
    "        self.l = l\n",
    "        \n",
    "    def __call__(self, theta): \n",
    "        return self.l * np.sum(np.square(theta))\n",
    "        \n",
    "    def derivation(self, theta):\n",
    "        return self.l * 2 * theta\n",
    "\n",
    "class Ridge(LogisticRegression):\n",
    "    \n",
    "    def __init__(self, k, n, method, l, alpha, max_iter = 5000):\n",
    "        self.regularization = RidgePenalty(l)\n",
    "        super().__init__(k, n, method, alpha, max_iter, self.regularization)"
   ]
  },
  {
   "cell_type": "code",
   "execution_count": 86,
   "metadata": {},
   "outputs": [
    {
     "name": "stdout",
     "output_type": "stream",
     "text": [
      "Loss at iteration 0 1.1665465267554025\n"
     ]
    },
    {
     "name": "stdout",
     "output_type": "stream",
     "text": [
      "Loss at iteration 500 0.04638651501818895\n",
      "Loss at iteration 1000 0.04798807529384612\n",
      "Loss at iteration 1500 0.07821176958291882\n",
      "Loss at iteration 2000 0.04016366425847017\n",
      "Loss at iteration 2500 0.042531406993801715\n",
      "Loss at iteration 3000 0.03710213960513284\n",
      "Loss at iteration 3500 0.047454639913187234\n",
      "Loss at iteration 4000 0.05019762696781329\n",
      "Loss at iteration 4500 0.047760219818300816\n",
      "time taken: 2.3056564331054688\n",
      "=========Classification report=======\n",
      "Report: \n",
      "             precision  recall f1-score  support\n",
      "          0    0.9947  0.9960   0.9953     1504\n",
      "          1    0.8500  0.8226   0.8361       62\n",
      "          2    0.8235  0.4667   0.5957       30\n",
      "          3    0.3043  0.7000   0.4242       10\n",
      "                                          \n",
      "accuracy                      0.9776  1606\n",
      "macro avg     0.7431  0.7463  0.7129  1606\n",
      "weighted avg  0.9816  0.9776  0.9782  1606\n"
     ]
    },
    {
     "data": {
      "image/png": "[encoded data removed]",
      "text/plain": [
       "<Figure size 640x480 with 1 Axes>"
      ]
     },
     "metadata": {},
     "output_type": "display_data"
    }
   ],
   "source": [
    "k = len(set(y))\n",
    "model = Ridge(k, X_train.shape[1], \"minibatch\", l = 0.1, alpha = 0.001, max_iter = 5000)\n",
    "model.fit(X_train, Y_train_encoded)\n",
    "yhat = model.predict(X_test)\n",
    "model.plot()\n",
    "print(\"=========Classification report=======\")\n",
    "print(\"Report: \\n\", model.classification_report(y_test, yhat)) # use our version of report function"
   ]
  },
  {
   "cell_type": "markdown",
   "metadata": {},
   "source": [
    "## Logging the experiment to MLFlow"
   ]
  },
  {
   "cell_type": "code",
   "execution_count": 87,
   "metadata": {},
   "outputs": [
    {
     "data": {
      "text/plain": [
       "<Experiment: artifact_location='mlflow-artifacts:/786796262248941209', creation_time=1695586379952, experiment_id='786796262248941209', last_update_time=1695586379952, lifecycle_stage='active', name='st124323-a3', tags={}>"
      ]
     },
     "execution_count": 87,
     "metadata": {},
     "output_type": "execute_result"
    }
   ],
   "source": [
    "import mlflow\n",
    "import os\n",
    "\n",
    "mlflow.set_tracking_uri(\"https://mlflow.cs.ait.ac.th/\")\n",
    "\n",
    "os.environ[\"LOGNAME\"] = \"ksung\"\n",
    "# mlflow.create_experiment(name=\"st124323-a3\")  #create if you haven't create\n",
    "mlflow.set_experiment(experiment_name=\"st124323-a3\")"
   ]
  },
  {
   "cell_type": "code",
   "execution_count": 88,
   "metadata": {},
   "outputs": [],
   "source": [
    "class LogisticRegression_MLFlow:\n",
    "    \n",
    "    def __init__(self, k, n, method, alpha = 0.001, max_iter=10000, regularization = False, l = 0):\n",
    "        self.k = k\n",
    "        self.n = n\n",
    "        self.alpha = alpha\n",
    "        self.max_iter = max_iter\n",
    "        self.method = method\n",
    "        self.regularization = regularization\n",
    "        self.l = l\n",
    "    \n",
    "    def fit(self, X, Y):\n",
    "        self.W = np.random.rand(self.n, self.k)\n",
    "        self.losses = []\n",
    "        params = {'class': self.k, 'method': self.method, 'lr': self.alpha, \n",
    "                      'l': self.l, 'iter': self.max_iter}\n",
    "\n",
    "        if self.method == \"batch\":\n",
    "            start_time = time.time()\n",
    "            mlflow.log_params(params=params)\n",
    "            for i in range(self.max_iter):\n",
    "                loss, grad =  self.gradient(X, Y)\n",
    "                self.losses.append(loss)\n",
    "                self.W = self.W - self.alpha * grad\n",
    "                if i % (self.max_iter//3) == 0:\n",
    "                    print(f\"Loss at iteration {i}\", loss)\n",
    "                if i % (self.max_iter//50) == 0:\n",
    "                    mlflow.log_metric(key=\"loss\", value=loss, step=i)\n",
    "            print(f\"Loss at iteration {i}\", loss)\n",
    "            mlflow.log_metric(key=\"loss\", value=loss, step=i)\n",
    "            print(f\"time taken: {time.time() - start_time}\")\n",
    "            \n",
    "        elif self.method == \"minibatch\":\n",
    "            start_time = time.time()\n",
    "            mlflow.log_params(params=params)\n",
    "            batch_size = int(0.3 * X.shape[0])\n",
    "            for i in range(self.max_iter):\n",
    "                ix = np.random.randint(0, X.shape[0]) #<----with replacement\n",
    "                batch_X = X[ix:ix+batch_size]\n",
    "                batch_Y = Y[ix:ix+batch_size]\n",
    "                loss, grad = self.gradient(batch_X, batch_Y)\n",
    "                self.losses.append(loss)\n",
    "                self.W = self.W - self.alpha * grad\n",
    "                if i % (self.max_iter//3) == 0:\n",
    "                    print(f\"Loss at iteration {i}\", loss)\n",
    "                if i % (self.max_iter//50) == 0:\n",
    "                    mlflow.log_metric(key=\"loss\", value=loss, step=i)\n",
    "            print(f\"Loss at iteration {i}\", loss)\n",
    "            mlflow.log_metric(key=\"loss\", value=loss, step=i)\n",
    "            print(f\"time taken: {time.time() - start_time}\")\n",
    "            \n",
    "        elif self.method == \"sto\":\n",
    "            start_time = time.time()\n",
    "            mlflow.log_params(params=params)\n",
    "            list_of_used_ix = []\n",
    "            for i in range(self.max_iter):\n",
    "                idx = np.random.randint(X.shape[0])\n",
    "                while i in list_of_used_ix:\n",
    "                    idx = np.random.randint(X.shape[0])\n",
    "                X_train = X[idx, :].reshape(1, -1)\n",
    "                Y_train = Y[idx]\n",
    "                loss, grad = self.gradient(X_train, Y_train)\n",
    "                self.losses.append(loss)\n",
    "                self.W = self.W - self.alpha * grad\n",
    "                \n",
    "                list_of_used_ix.append(i)\n",
    "                if len(list_of_used_ix) == X.shape[0]:\n",
    "                    list_of_used_ix = []\n",
    "                if i % (self.max_iter//3) == 0:\n",
    "                    print(f\"Loss at iteration {i}\", loss)\n",
    "                if i % (self.max_iter//50) == 0:\n",
    "                    mlflow.log_metric(key=\"loss\", value=loss, step=i)\n",
    "            print(f\"Loss at iteration {i}\", loss)\n",
    "            mlflow.log_metric(key=\"loss\", value=loss, step=i)\n",
    "            print(f\"time taken: {time.time() - start_time}\")\n",
    "            \n",
    "        else:\n",
    "            raise ValueError('Method must be one of the followings: \"batch\", \"minibatch\" or \"sto\".')\n",
    "        \n",
    "\n",
    "        \n",
    "    def gradient(self, X, Y):\n",
    "        m = X.shape[0]\n",
    "        h = self.h_theta(X, self.W)\n",
    "        loss = - np.sum(Y*np.log(h)) / m\n",
    "        error = h - Y\n",
    "        if not self.regularization:\n",
    "            penalty = 0\n",
    "        else:\n",
    "            penalty = self.regularization.derivation(self.W)\n",
    "        grad = self.softmax_grad(X, error) + penalty\n",
    "        return loss, grad\n",
    "\n",
    "    def softmax(self, theta_t_x):\n",
    "        return np.exp(theta_t_x) / np.sum(np.exp(theta_t_x), axis=1, keepdims=True)\n",
    "\n",
    "    def softmax_grad(self, X, error):\n",
    "        return  X.T @ error\n",
    "\n",
    "    def h_theta(self, X, W):\n",
    "        '''\n",
    "        Input:\n",
    "            X shape: (m, n)\n",
    "            w shape: (n, k)\n",
    "        Returns:\n",
    "            yhat shape: (m, k)\n",
    "        '''\n",
    "        return self.softmax(X @ W)\n",
    "    \n",
    "    def predict(self, X_test):\n",
    "        return np.argmax(self.h_theta(X_test, self.W), axis=1)\n",
    "    \n",
    "    def plot(self):\n",
    "        plt.plot(np.arange(len(self.losses)) , self.losses, label = \"Train Losses\")\n",
    "        plt.title(\"Losses\")\n",
    "        plt.xlabel(\"epoch\")\n",
    "        plt.ylabel(\"losses\")\n",
    "        plt.legend()\n",
    "\n",
    "    def check_shape_mismatch(self, ytrue, yhat):\n",
    "        if yhat.shape != ytrue.shape:\n",
    "            print('The arguments shape are mismatched')\n",
    "            return None\n",
    "\n",
    "    def class_of_interest(self, c):\n",
    "        if c is None: #class of interest\n",
    "            c_list = range(self.k)\n",
    "        elif isinstance(c, int):\n",
    "            c_list = [c]\n",
    "        elif isinstance(c, list):\n",
    "            c_list = c\n",
    "        else:\n",
    "            print('invalid class of interest')\n",
    "            return\n",
    "        return c_list\n",
    "\n",
    "    def accuracy(self, ytrue, yhat):\n",
    "        self.check_shape_mismatch(ytrue, yhat)\n",
    "        n = len(yhat)\n",
    "        m = np.sum(yhat == ytrue)\n",
    "        return m/n\n",
    "    \n",
    "    def precision(self, ytrue, yhat, clss = None):\n",
    "        self.check_shape_mismatch(ytrue, yhat)\n",
    "        prec = dict()   \n",
    "        c_list = self.class_of_interest(clss)\n",
    "        for c in c_list:\n",
    "            yhat_c = np.where(yhat == c, 1, 0)\n",
    "            ytrue_c = np.where(ytrue == c, 1, 0)\n",
    "            TP = np.sum(np.all([yhat_c==1, ytrue_c==1], axis=0))\n",
    "            FP = np.sum(np.all([yhat_c==1, ytrue_c==0], axis=0))\n",
    "            if TP+FP == 0:\n",
    "                # no positive is predicted\n",
    "                # 'zero division error'\n",
    "                prec[c] = 0\n",
    "            else:\n",
    "                prec[c] = TP/(TP+FP)\n",
    "        return prec\n",
    "    \n",
    "    def recall(self, ytrue, yhat, clss=None):\n",
    "        self.check_shape_mismatch(ytrue, yhat)\n",
    "        rec = dict()   \n",
    "        c_list = self.class_of_interest(clss)\n",
    "        for c in c_list:\n",
    "            yhat_c = np.where(yhat == c, 1, 0)\n",
    "            ytrue_c = np.where(ytrue == c, 1, 0)\n",
    "            TP = np.sum(np.all([yhat_c==1, ytrue_c==1], axis=0))\n",
    "            FN = np.sum(np.all([yhat_c==0, ytrue_c==1], axis=0))\n",
    "            if TP+FN == 0:\n",
    "                # no positive in true value\n",
    "                # 'zero division error'\n",
    "                rec[c] = 0\n",
    "            else:\n",
    "                rec[c] = TP/(TP+FN)\n",
    "        return rec\n",
    "    \n",
    "    def f1_score(self, ytrue, yhat, clss=None):\n",
    "        f1 = dict()\n",
    "        c_list = self.class_of_interest(clss)\n",
    "        prec = self.precision(ytrue, yhat, clss)\n",
    "        rec = self.recall(ytrue, yhat, clss)\n",
    "        for c in c_list:\n",
    "            if prec[c] + rec[c] == 0:\n",
    "                # 'zero division error'\n",
    "                f1[c] = 0\n",
    "            else:\n",
    "                f1[c] = (2*prec[c]*rec[c]) / (prec[c] + rec[c])\n",
    "        return f1\n",
    "    \n",
    "    def macro_precision(self, ytrue, yhat):\n",
    "        prec = self.precision(ytrue, yhat)\n",
    "        mac_prec = sum(prec.values()) / self.k\n",
    "        return mac_prec\n",
    "    \n",
    "    def macro_recall(self, ytrue, yhat):\n",
    "        rec = self.recall(ytrue, yhat)\n",
    "        mac_rec = sum(rec.values()) / self.k\n",
    "        return mac_rec\n",
    "    \n",
    "    def macro_f1_score(self, ytrue, yhat):\n",
    "        f1 = self.f1_score(ytrue, yhat)\n",
    "        mac_f1 = sum(f1.values()) / self.k\n",
    "        return mac_f1\n",
    "    \n",
    "    def weighted_precision(self, ytrue, yhat):\n",
    "        prec = np.array([k for k in self.precision(ytrue, yhat).values()])\n",
    "        w = np.array(self.support(ytrue)) / len(ytrue)\n",
    "        return prec@w\n",
    "    \n",
    "    def weighted_recall(self, ytrue, yhat):\n",
    "        rec = np.array([k for k in self.recall(ytrue, yhat).values()])\n",
    "        w = np.array(self.support(ytrue)) / len(ytrue)\n",
    "        return rec@w\n",
    "    \n",
    "    def weighted_f1_score(self, ytrue, yhat):\n",
    "        f1 = np.array([k for k in self.f1_score(ytrue, yhat).values()])\n",
    "        w = np.array(self.support(ytrue)) / len(ytrue)\n",
    "        return f1@w\n",
    "    \n",
    "    def support(self, ytrue):\n",
    "        sup = [None] * self.k\n",
    "        for c in range(self.k):\n",
    "            sup[c] = np.sum(ytrue == c)\n",
    "        return sup\n",
    "    \n",
    "    def classification_report(self, ytrue, yhat):\n",
    "        self.check_shape_mismatch(ytrue, yhat)\n",
    "\n",
    "        prec = np.array([k for k in self.precision(ytrue, yhat).values()])\n",
    "        rec = np.array([k for k in self.recall(ytrue, yhat).values()])\n",
    "        f1 = np.array([k for k in self.f1_score(ytrue, yhat).values()])\n",
    "        w = np.array(self.support(ytrue)) / len(ytrue)\n",
    "        part1 = pd.DataFrame({'precision':[\"{:.4f}\".format(k) for k in prec],\n",
    "                'recall':[\"{:.4f}\".format(k) for k in rec],\n",
    "                'f1-score':[\"{:.4f}\".format(k) for k in f1],\n",
    "                'support': self.support(ytrue)})\n",
    "        part1.set_index([pd.Series([' '*10+'0', ' '*10+'1', ' '*10+'2', ' '*10+'3'])], inplace=True)\n",
    "\n",
    "        part2 = pd.DataFrame({'accuracy': ['',  '', \"{:.4f}\".format(self.accuracy(ytrue, yhat)), len(ytrue)],\n",
    "                              'macro avg': [\"{:.4f}\".format(np.mean(prec)), \"{:.4f}\".format(np.mean(rec)), \"{:.4f}\".format(np.mean(f1)), len(ytrue)],\n",
    "                              'weighted avg': [\"{:.4f}\".format(prec@w), \"{:.4f}\".format(rec@w), \"{:.4f}\".format(f1@w), len(ytrue)]\n",
    "                              }, index=None).set_index(pd.Index(['','','',''])).T\n",
    "        return part1.to_string() + \"\\n\" + part2.to_string()\n"
   ]
  },
  {
   "cell_type": "code",
   "execution_count": 89,
   "metadata": {},
   "outputs": [],
   "source": [
    "class RidgePenalty:\n",
    "    \n",
    "    def __init__(self, l):\n",
    "        self.l = l\n",
    "        \n",
    "    def __call__(self, theta): \n",
    "        return self.l * np.sum(np.square(theta))\n",
    "        \n",
    "    def derivation(self, theta):\n",
    "        return self.l * 2 * theta\n",
    "\n",
    "class Ridge_MLFlow(LogisticRegression_MLFlow):\n",
    "    \n",
    "    def __init__(self, k, n, method, l, alpha, max_iter = 5000):\n",
    "        self.regularization = RidgePenalty(l)\n",
    "        super().__init__(k, n, method, alpha, max_iter, self.regularization, l)"
   ]
  },
  {
   "cell_type": "code",
   "execution_count": null,
   "metadata": {},
   "outputs": [],
   "source": [
    "params_grid = {'k': [len(set(y))],\n",
    "               'n': [X_train.shape[1]],\n",
    "               \"method\": [\"batch\", 'minibatch', 'sto'], \n",
    "               \"alpha\": [0.1, 0.01, 0.005], \n",
    "               \"l\": [0, 0.1, 0.01, 1], \n",
    "               \"max_iter\": [10000, 50000]} # 72 combinations\n",
    "\n",
    "# params_grid = {'k': [len(set(y))],\n",
    "#                'n': [X_train.shape[1]],\n",
    "#                \"method\": [\"batch\"], \n",
    "#                \"alpha\": [0.005], \n",
    "#                \"l\": [0.01], \n",
    "#                \"max_iter\": [10000]} \n",
    "\n",
    "import itertools \n",
    "\n",
    "keys, values = zip(*params_grid.items())\n",
    "\n",
    "for v in itertools.product(*values):\n",
    "    params = dict(zip(keys, v))\n",
    "    # params = {'method': 'batch', 'lr': 0.1, 'l': 0.1, 'iter': 5000}\n",
    "    mlflow.start_run(run_name=f\"method-{params['method']}-lr-{params['alpha']}\\\n",
    "                     -lambda-{params['l']}-iter-{params['max_iter']}\", nested=True)\n",
    "\n",
    "    # print(\"=\"*5, v, \"=\"*5)\n",
    "    print(\"=\"*5, v[2:], \"=\"*5)\n",
    "\n",
    "    # #######\n",
    "    model = Ridge_MLFlow(**params)  \n",
    "    model.fit(X_train, Y_train_encoded)\n",
    "    yhat = model.predict(X_test)\n",
    "\n",
    "    acc = model.accuracy(y_test, yhat)\n",
    "    prec = model.precision(y_test, yhat)\n",
    "    rec = model.recall(y_test, yhat)\n",
    "    f1 = model.f1_score(y_test, yhat)\n",
    "    mprec = model.macro_precision(y_test, yhat)\n",
    "    mrec = model.macro_recall(y_test, yhat)\n",
    "    mf1 = model.macro_f1_score(y_test, yhat)\n",
    "    wprec = model.weighted_precision(y_test, yhat)\n",
    "    wrec = model.weighted_recall(y_test, yhat)\n",
    "    wf1 = model.weighted_f1_score(y_test, yhat)\n",
    "\n",
    "    mlflow.log_metric(key=\"test_acc\", value=acc)\n",
    "    mlflow.log_metric(key=\"test_mprec\", value=mprec)\n",
    "    mlflow.log_metric(key=\"test_mrec\", value=mrec)\n",
    "    mlflow.log_metric(key=\"test_mf1\", value=mf1)\n",
    "    mlflow.log_metric(key=\"test_wprec\", value=wprec)\n",
    "    mlflow.log_metric(key=\"test_wrec\", value=wrec)\n",
    "    mlflow.log_metric(key=\"test_wf1\", value=wf1)\n",
    "    for i in range(4):\n",
    "        mlflow.log_metric(key=\"test_prec_\"+str(i), value=prec[i])\n",
    "        mlflow.log_metric(key=\"test_rec_\"+str(i), value=rec[i])\n",
    "        mlflow.log_metric(key=\"test_f1_\"+str(i), value=f1[i])\n",
    "\n",
    "    print('Logging completed')\n",
    "    print(\"Report: \\n\", model.classification_report(y_test, yhat))\n",
    "\n",
    "    signature = mlflow.models.infer_signature(X_train, model.predict(X_train))\n",
    "    mlflow.sklearn.log_model(model, artifact_path='model', signature=signature)\n",
    "\n",
    "    # #######\n",
    "\n",
    "    mlflow.end_run() "
   ]
  },
  {
   "cell_type": "code",
   "execution_count": 91,
   "metadata": {},
   "outputs": [],
   "source": [
    "mlflow.end_run() "
   ]
  },
  {
   "cell_type": "markdown",
   "metadata": {},
   "source": [
    "# Select the best model from the experiment"
   ]
  },
  {
   "cell_type": "code",
   "execution_count": 2,
   "metadata": {},
   "outputs": [],
   "source": [
    "# Reload the selected model and show its performance\n",
    "\n",
    "mlflow.set_tracking_uri(\"https://mlflow.cs.ait.ac.th/\")\n",
    "model = mlflow.sklearn.load_model('models:/st124323-a3-model/staging')\n",
    "# print(model.classification_report(y_test, model.predict(X_test)))"
   ]
  },
  {
   "cell_type": "markdown",
   "metadata": {},
   "source": [
    "# Create test cases for CI/CD"
   ]
  },
  {
   "cell_type": "markdown",
   "metadata": {},
   "source": [
    "## Create expected outputs of the intermediate function"
   ]
  },
  {
   "cell_type": "code",
   "execution_count": 3,
   "metadata": {},
   "outputs": [],
   "source": [
    "# ref. '../app/pages/V3.py'\n",
    "\n",
    "def mock_V3_class_prediction(x_1, x_2, x_3, x_4, x_5):\n",
    "    \n",
    "    scaler = pickle.load(open('../app/pages/codeV3/model/scaler.pkl','rb'))\n",
    "    ## scale engine and max_power\n",
    "    if x_1 is None:\n",
    "        x_1 = 0\n",
    "    if x_2 is None:\n",
    "        x_2 = 2015.0\n",
    "    if x_3 is None:\n",
    "        x_3 = 1\n",
    "    if x_4 is None:\n",
    "        x_4 = 1248.0\n",
    "    if x_5 is None:\n",
    "        x_5 = 82.85\n",
    "    # print(x_1,x_2,x_3,x_4,x_5)\n",
    "    tbs = pd.DataFrame({'year': [x_2], 'engine':[x_4], 'max_power':[x_5]})\n",
    "    tbs = scaler.transform(tbs)\n",
    "    x_2, x_4, x_5 = tbs[0][0], tbs[0][1], tbs[0][2]\n",
    "\n",
    "    ## dummies for brand \n",
    "    ## x_1 starts from 1\n",
    "    ## 0 is Other/Unknown\n",
    "    # brand_list = ['Ambassador','Ashok','Audi','BMW','Chevrolet','Daewoo','Datsun','Fiat',\n",
    "    #                 'Force','Ford','Honda','Hyundai','Isuzu','Jaguar','Jeep',\n",
    "    #                 'Kia','Land','Lexus','MG','Mahindra','Maruti','Mercedes-Benz',\n",
    "    #                 'Mitsubishi','Nissan','Opel','Peugeot','Renault','Skoda','Tata',\n",
    "    #                 'Toyota','Volkswagen','Volvo']\n",
    "\n",
    "    col_order = ['year','transmission','engine','max_power','b_Ambassador','b_Ashok','b_Audi',\n",
    "                'b_BMW','b_Chevrolet','b_Daewoo','b_Datsun','b_Fiat','b_Force','b_Ford',\n",
    "                'b_Honda','b_Hyundai','b_Isuzu','b_Jaguar','b_Jeep','b_Kia','b_Land',\n",
    "                'b_Lexus','b_MG','b_Mahindra','b_Maruti','b_Mercedes-Benz','b_Mitsubishi',\n",
    "                'b_Nissan','b_Opel','b_Peugeot','b_Renault','b_Skoda','b_Tata',\n",
    "                'b_Toyota','b_Volkswagen','b_Volvo']\n",
    "    \n",
    "    X = pd.DataFrame(0, index=np.array([1]), columns=col_order)\n",
    "    X.iloc[:,:4] = x_2, x_3, x_4, x_5\n",
    "    X.iloc[:,x_1+3] = 1\n",
    "    intercept = np.ones((X.shape[0], 1))\n",
    "    X = np.concatenate((intercept, X), axis=1)\n",
    "    phat = model.predict(X)\n",
    "    \n",
    "    return phat   "
   ]
  },
  {
   "cell_type": "code",
   "execution_count": 21,
   "metadata": {},
   "outputs": [
    {
     "name": "stdout",
     "output_type": "stream",
     "text": [
      "[2]\n"
     ]
    }
   ],
   "source": [
    "print(mock_V3_class_prediction(29, 2023, 0, 1800, 130)) # Toyota, year 2023, Auto, 1800 cc, 130 bhp"
   ]
  },
  {
   "cell_type": "code",
   "execution_count": 22,
   "metadata": {},
   "outputs": [
    {
     "name": "stdout",
     "output_type": "stream",
     "text": [
      "[0]\n"
     ]
    }
   ],
   "source": [
    "print(mock_V3_class_prediction(4, 2018, 0, 1500, 90)) # BMW, year 2018, Auto, 1500 cc, 90 bhp"
   ]
  },
  {
   "cell_type": "code",
   "execution_count": 23,
   "metadata": {},
   "outputs": [
    {
     "name": "stdout",
     "output_type": "stream",
     "text": [
      "[0]\n"
     ]
    }
   ],
   "source": [
    "print(mock_V3_class_prediction(None,None,None,None,None))"
   ]
  },
  {
   "cell_type": "code",
   "execution_count": 24,
   "metadata": {},
   "outputs": [
    {
     "name": "stdout",
     "output_type": "stream",
     "text": [
      "[1]\n"
     ]
    }
   ],
   "source": [
    "print(mock_V3_class_prediction(3,2023,None,None,None))"
   ]
  },
  {
   "cell_type": "code",
   "execution_count": 25,
   "metadata": {},
   "outputs": [
    {
     "name": "stdout",
     "output_type": "stream",
     "text": [
      "(1,)\n"
     ]
    }
   ],
   "source": [
    "print(mock_V3_class_prediction(3,2023,None,None,None).shape)"
   ]
  },
  {
   "cell_type": "code",
   "execution_count": 37,
   "metadata": {},
   "outputs": [
    {
     "data": {
      "text/plain": [
       "True"
      ]
     },
     "execution_count": 37,
     "metadata": {},
     "output_type": "execute_result"
    }
   ],
   "source": [
    "test = mock_V3_class_prediction(3,2023,None,None,None)\n",
    "test.shape == (1,)"
   ]
  },
  {
   "cell_type": "markdown",
   "metadata": {},
   "source": [
    "## Create expected output type"
   ]
  },
  {
   "cell_type": "code",
   "execution_count": 28,
   "metadata": {},
   "outputs": [],
   "source": [
    "def mock_V3_output(x_1, x_2, x_3, x_4, x_5):\n",
    "    phat = mock_V3_class_prediction(x_1, x_2, x_3, x_4, x_5)[0]\n",
    "    if phat == 0:\n",
    "        return f\"Predicted car selling price is less than 1822499.25 INR (class {phat})\"\n",
    "    elif phat == 1:\n",
    "        return f\"Predicted car selling price is between 1822499.25 INR and 3614999.5 INR (class {phat})\"\n",
    "    elif phat == 2:\n",
    "        return f\"Predicted car selling price is between 3614999.5 INR and 5407499.75 INR (class {phat})\"\n",
    "    elif phat == 3:\n",
    "        return f\"Predicted car selling price is more than 5407499.75 INR (class {phat})\"\n",
    "    \n",
    "    return f'Uh oh. Sumting wong (phat: {phat[0]})'    "
   ]
  },
  {
   "cell_type": "code",
   "execution_count": 29,
   "metadata": {},
   "outputs": [
    {
     "data": {
      "text/plain": [
       "True"
      ]
     },
     "execution_count": 29,
     "metadata": {},
     "output_type": "execute_result"
    }
   ],
   "source": [
    "isinstance(mock_V3_output(3,2023,None,None,None), str)"
   ]
  },
  {
   "cell_type": "code",
   "execution_count": 4,
   "metadata": {},
   "outputs": [
    {
     "ename": "PicklingError",
     "evalue": "Can't pickle <class '__main__.Ridge_MLFlow'>: attribute lookup Ridge_MLFlow on __main__ failed",
     "output_type": "error",
     "traceback": [
      "\u001b[1;31m---------------------------------------------------------------------------\u001b[0m",
      "\u001b[1;31mPicklingError\u001b[0m                             Traceback (most recent call last)",
      "\u001b[1;32md:\\Work + Project\\2023 Fall\\ML\\Assignment 3\\code\\train.ipynb Cell 128\u001b[0m line \u001b[0;36m1\n\u001b[1;32m----> <a href='vscode-notebook-cell:/d%3A/Work%20%2B%20Project/2023%20Fall/ML/Assignment%203/code/train.ipynb#Y241sZmlsZQ%3D%3D?line=0'>1</a>\u001b[0m pickle\u001b[39m.\u001b[39;49mdump(model, \u001b[39mopen\u001b[39;49m(\u001b[39m'\u001b[39;49m\u001b[39m./model/logismodel.pkl\u001b[39;49m\u001b[39m'\u001b[39;49m,\u001b[39m'\u001b[39;49m\u001b[39mwb\u001b[39;49m\u001b[39m'\u001b[39;49m))\n",
      "\u001b[1;31mPicklingError\u001b[0m: Can't pickle <class '__main__.Ridge_MLFlow'>: attribute lookup Ridge_MLFlow on __main__ failed"
     ]
    }
   ],
   "source": [
    "pickle.dump(model, open('./model/logismodel.pkl','wb'))"
   ]
  },
  {
   "cell_type": "code",
   "execution_count": null,
   "metadata": {},
   "outputs": [],
   "source": []
  }
 ],
 "metadata": {
  "kernelspec": {
   "display_name": "Python 3",
   "language": "python",
   "name": "python3"
  },
  "language_info": {
   "codemirror_mode": {
    "name": "ipython",
    "version": 3
   },
   "file_extension": ".py",
   "mimetype": "text/x-python",
   "name": "python",
   "nbconvert_exporter": "python",
   "pygments_lexer": "ipython3",
   "version": "3.11.5"
  },
  "orig_nbformat": 4,
  "vscode": {
   "interpreter": {
    "hash": "8e4ec63297a9306813d7e83258dafae3e2212f01549251d77cd4053ea85a4de0"
   }
  }
 },
 "nbformat": 4,
 "nbformat_minor": 2
}
